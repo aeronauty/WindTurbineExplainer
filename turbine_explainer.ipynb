{
 "cells": [
  {
   "cell_type": "code",
   "execution_count": 1,
   "id": "43c9673e",
   "metadata": {},
   "outputs": [],
   "source": [
    "import sympy as sp"
   ]
  },
  {
   "cell_type": "code",
   "execution_count": 16,
   "id": "c77e2d9c",
   "metadata": {},
   "outputs": [
    {
     "data": {
      "application/vnd.plotly.v1+json": {
       "config": {
        "plotlyServerURL": "https://plot.ly"
       },
       "data": [
        {
         "mode": "lines",
         "name": "Blade 1",
         "type": "scatter",
         "x": {
          "bdata": "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",
          "dtype": "f8"
         },
         "y": {
          "bdata": "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",
          "dtype": "f8"
         }
        },
        {
         "mode": "lines",
         "name": "Total",
         "type": "scatter",
         "x": {
          "bdata": "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",
          "dtype": "f8"
         },
         "y": {
          "bdata": "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",
          "dtype": "f8"
         }
        }
       ],
       "layout": {
        "template": {
         "data": {
          "bar": [
           {
            "error_x": {
             "color": "#2a3f5f"
            },
            "error_y": {
             "color": "#2a3f5f"
            },
            "marker": {
             "line": {
              "color": "#E5ECF6",
              "width": 0.5
             },
             "pattern": {
              "fillmode": "overlay",
              "size": 10,
              "solidity": 0.2
             }
            },
            "type": "bar"
           }
          ],
          "barpolar": [
           {
            "marker": {
             "line": {
              "color": "#E5ECF6",
              "width": 0.5
             },
             "pattern": {
              "fillmode": "overlay",
              "size": 10,
              "solidity": 0.2
             }
            },
            "type": "barpolar"
           }
          ],
          "carpet": [
           {
            "aaxis": {
             "endlinecolor": "#2a3f5f",
             "gridcolor": "white",
             "linecolor": "white",
             "minorgridcolor": "white",
             "startlinecolor": "#2a3f5f"
            },
            "baxis": {
             "endlinecolor": "#2a3f5f",
             "gridcolor": "white",
             "linecolor": "white",
             "minorgridcolor": "white",
             "startlinecolor": "#2a3f5f"
            },
            "type": "carpet"
           }
          ],
          "choropleth": [
           {
            "colorbar": {
             "outlinewidth": 0,
             "ticks": ""
            },
            "type": "choropleth"
           }
          ],
          "contour": [
           {
            "colorbar": {
             "outlinewidth": 0,
             "ticks": ""
            },
            "colorscale": [
             [
              0,
              "#0d0887"
             ],
             [
              0.1111111111111111,
              "#46039f"
             ],
             [
              0.2222222222222222,
              "#7201a8"
             ],
             [
              0.3333333333333333,
              "#9c179e"
             ],
             [
              0.4444444444444444,
              "#bd3786"
             ],
             [
              0.5555555555555556,
              "#d8576b"
             ],
             [
              0.6666666666666666,
              "#ed7953"
             ],
             [
              0.7777777777777778,
              "#fb9f3a"
             ],
             [
              0.8888888888888888,
              "#fdca26"
             ],
             [
              1,
              "#f0f921"
             ]
            ],
            "type": "contour"
           }
          ],
          "contourcarpet": [
           {
            "colorbar": {
             "outlinewidth": 0,
             "ticks": ""
            },
            "type": "contourcarpet"
           }
          ],
          "heatmap": [
           {
            "colorbar": {
             "outlinewidth": 0,
             "ticks": ""
            },
            "colorscale": [
             [
              0,
              "#0d0887"
             ],
             [
              0.1111111111111111,
              "#46039f"
             ],
             [
              0.2222222222222222,
              "#7201a8"
             ],
             [
              0.3333333333333333,
              "#9c179e"
             ],
             [
              0.4444444444444444,
              "#bd3786"
             ],
             [
              0.5555555555555556,
              "#d8576b"
             ],
             [
              0.6666666666666666,
              "#ed7953"
             ],
             [
              0.7777777777777778,
              "#fb9f3a"
             ],
             [
              0.8888888888888888,
              "#fdca26"
             ],
             [
              1,
              "#f0f921"
             ]
            ],
            "type": "heatmap"
           }
          ],
          "histogram": [
           {
            "marker": {
             "pattern": {
              "fillmode": "overlay",
              "size": 10,
              "solidity": 0.2
             }
            },
            "type": "histogram"
           }
          ],
          "histogram2d": [
           {
            "colorbar": {
             "outlinewidth": 0,
             "ticks": ""
            },
            "colorscale": [
             [
              0,
              "#0d0887"
             ],
             [
              0.1111111111111111,
              "#46039f"
             ],
             [
              0.2222222222222222,
              "#7201a8"
             ],
             [
              0.3333333333333333,
              "#9c179e"
             ],
             [
              0.4444444444444444,
              "#bd3786"
             ],
             [
              0.5555555555555556,
              "#d8576b"
             ],
             [
              0.6666666666666666,
              "#ed7953"
             ],
             [
              0.7777777777777778,
              "#fb9f3a"
             ],
             [
              0.8888888888888888,
              "#fdca26"
             ],
             [
              1,
              "#f0f921"
             ]
            ],
            "type": "histogram2d"
           }
          ],
          "histogram2dcontour": [
           {
            "colorbar": {
             "outlinewidth": 0,
             "ticks": ""
            },
            "colorscale": [
             [
              0,
              "#0d0887"
             ],
             [
              0.1111111111111111,
              "#46039f"
             ],
             [
              0.2222222222222222,
              "#7201a8"
             ],
             [
              0.3333333333333333,
              "#9c179e"
             ],
             [
              0.4444444444444444,
              "#bd3786"
             ],
             [
              0.5555555555555556,
              "#d8576b"
             ],
             [
              0.6666666666666666,
              "#ed7953"
             ],
             [
              0.7777777777777778,
              "#fb9f3a"
             ],
             [
              0.8888888888888888,
              "#fdca26"
             ],
             [
              1,
              "#f0f921"
             ]
            ],
            "type": "histogram2dcontour"
           }
          ],
          "mesh3d": [
           {
            "colorbar": {
             "outlinewidth": 0,
             "ticks": ""
            },
            "type": "mesh3d"
           }
          ],
          "parcoords": [
           {
            "line": {
             "colorbar": {
              "outlinewidth": 0,
              "ticks": ""
             }
            },
            "type": "parcoords"
           }
          ],
          "pie": [
           {
            "automargin": true,
            "type": "pie"
           }
          ],
          "scatter": [
           {
            "fillpattern": {
             "fillmode": "overlay",
             "size": 10,
             "solidity": 0.2
            },
            "type": "scatter"
           }
          ],
          "scatter3d": [
           {
            "line": {
             "colorbar": {
              "outlinewidth": 0,
              "ticks": ""
             }
            },
            "marker": {
             "colorbar": {
              "outlinewidth": 0,
              "ticks": ""
             }
            },
            "type": "scatter3d"
           }
          ],
          "scattercarpet": [
           {
            "marker": {
             "colorbar": {
              "outlinewidth": 0,
              "ticks": ""
             }
            },
            "type": "scattercarpet"
           }
          ],
          "scattergeo": [
           {
            "marker": {
             "colorbar": {
              "outlinewidth": 0,
              "ticks": ""
             }
            },
            "type": "scattergeo"
           }
          ],
          "scattergl": [
           {
            "marker": {
             "colorbar": {
              "outlinewidth": 0,
              "ticks": ""
             }
            },
            "type": "scattergl"
           }
          ],
          "scattermap": [
           {
            "marker": {
             "colorbar": {
              "outlinewidth": 0,
              "ticks": ""
             }
            },
            "type": "scattermap"
           }
          ],
          "scattermapbox": [
           {
            "marker": {
             "colorbar": {
              "outlinewidth": 0,
              "ticks": ""
             }
            },
            "type": "scattermapbox"
           }
          ],
          "scatterpolar": [
           {
            "marker": {
             "colorbar": {
              "outlinewidth": 0,
              "ticks": ""
             }
            },
            "type": "scatterpolar"
           }
          ],
          "scatterpolargl": [
           {
            "marker": {
             "colorbar": {
              "outlinewidth": 0,
              "ticks": ""
             }
            },
            "type": "scatterpolargl"
           }
          ],
          "scatterternary": [
           {
            "marker": {
             "colorbar": {
              "outlinewidth": 0,
              "ticks": ""
             }
            },
            "type": "scatterternary"
           }
          ],
          "surface": [
           {
            "colorbar": {
             "outlinewidth": 0,
             "ticks": ""
            },
            "colorscale": [
             [
              0,
              "#0d0887"
             ],
             [
              0.1111111111111111,
              "#46039f"
             ],
             [
              0.2222222222222222,
              "#7201a8"
             ],
             [
              0.3333333333333333,
              "#9c179e"
             ],
             [
              0.4444444444444444,
              "#bd3786"
             ],
             [
              0.5555555555555556,
              "#d8576b"
             ],
             [
              0.6666666666666666,
              "#ed7953"
             ],
             [
              0.7777777777777778,
              "#fb9f3a"
             ],
             [
              0.8888888888888888,
              "#fdca26"
             ],
             [
              1,
              "#f0f921"
             ]
            ],
            "type": "surface"
           }
          ],
          "table": [
           {
            "cells": {
             "fill": {
              "color": "#EBF0F8"
             },
             "line": {
              "color": "white"
             }
            },
            "header": {
             "fill": {
              "color": "#C8D4E3"
             },
             "line": {
              "color": "white"
             }
            },
            "type": "table"
           }
          ]
         },
         "layout": {
          "annotationdefaults": {
           "arrowcolor": "#2a3f5f",
           "arrowhead": 0,
           "arrowwidth": 1
          },
          "autotypenumbers": "strict",
          "coloraxis": {
           "colorbar": {
            "outlinewidth": 0,
            "ticks": ""
           }
          },
          "colorscale": {
           "diverging": [
            [
             0,
             "#8e0152"
            ],
            [
             0.1,
             "#c51b7d"
            ],
            [
             0.2,
             "#de77ae"
            ],
            [
             0.3,
             "#f1b6da"
            ],
            [
             0.4,
             "#fde0ef"
            ],
            [
             0.5,
             "#f7f7f7"
            ],
            [
             0.6,
             "#e6f5d0"
            ],
            [
             0.7,
             "#b8e186"
            ],
            [
             0.8,
             "#7fbc41"
            ],
            [
             0.9,
             "#4d9221"
            ],
            [
             1,
             "#276419"
            ]
           ],
           "sequential": [
            [
             0,
             "#0d0887"
            ],
            [
             0.1111111111111111,
             "#46039f"
            ],
            [
             0.2222222222222222,
             "#7201a8"
            ],
            [
             0.3333333333333333,
             "#9c179e"
            ],
            [
             0.4444444444444444,
             "#bd3786"
            ],
            [
             0.5555555555555556,
             "#d8576b"
            ],
            [
             0.6666666666666666,
             "#ed7953"
            ],
            [
             0.7777777777777778,
             "#fb9f3a"
            ],
            [
             0.8888888888888888,
             "#fdca26"
            ],
            [
             1,
             "#f0f921"
            ]
           ],
           "sequentialminus": [
            [
             0,
             "#0d0887"
            ],
            [
             0.1111111111111111,
             "#46039f"
            ],
            [
             0.2222222222222222,
             "#7201a8"
            ],
            [
             0.3333333333333333,
             "#9c179e"
            ],
            [
             0.4444444444444444,
             "#bd3786"
            ],
            [
             0.5555555555555556,
             "#d8576b"
            ],
            [
             0.6666666666666666,
             "#ed7953"
            ],
            [
             0.7777777777777778,
             "#fb9f3a"
            ],
            [
             0.8888888888888888,
             "#fdca26"
            ],
            [
             1,
             "#f0f921"
            ]
           ]
          },
          "colorway": [
           "#636efa",
           "#EF553B",
           "#00cc96",
           "#ab63fa",
           "#FFA15A",
           "#19d3f3",
           "#FF6692",
           "#B6E880",
           "#FF97FF",
           "#FECB52"
          ],
          "font": {
           "color": "#2a3f5f"
          },
          "geo": {
           "bgcolor": "white",
           "lakecolor": "white",
           "landcolor": "#E5ECF6",
           "showlakes": true,
           "showland": true,
           "subunitcolor": "white"
          },
          "hoverlabel": {
           "align": "left"
          },
          "hovermode": "closest",
          "mapbox": {
           "style": "light"
          },
          "paper_bgcolor": "white",
          "plot_bgcolor": "#E5ECF6",
          "polar": {
           "angularaxis": {
            "gridcolor": "white",
            "linecolor": "white",
            "ticks": ""
           },
           "bgcolor": "#E5ECF6",
           "radialaxis": {
            "gridcolor": "white",
            "linecolor": "white",
            "ticks": ""
           }
          },
          "scene": {
           "xaxis": {
            "backgroundcolor": "#E5ECF6",
            "gridcolor": "white",
            "gridwidth": 2,
            "linecolor": "white",
            "showbackground": true,
            "ticks": "",
            "zerolinecolor": "white"
           },
           "yaxis": {
            "backgroundcolor": "#E5ECF6",
            "gridcolor": "white",
            "gridwidth": 2,
            "linecolor": "white",
            "showbackground": true,
            "ticks": "",
            "zerolinecolor": "white"
           },
           "zaxis": {
            "backgroundcolor": "#E5ECF6",
            "gridcolor": "white",
            "gridwidth": 2,
            "linecolor": "white",
            "showbackground": true,
            "ticks": "",
            "zerolinecolor": "white"
           }
          },
          "shapedefaults": {
           "line": {
            "color": "#2a3f5f"
           }
          },
          "ternary": {
           "aaxis": {
            "gridcolor": "white",
            "linecolor": "white",
            "ticks": ""
           },
           "baxis": {
            "gridcolor": "white",
            "linecolor": "white",
            "ticks": ""
           },
           "bgcolor": "#E5ECF6",
           "caxis": {
            "gridcolor": "white",
            "linecolor": "white",
            "ticks": ""
           }
          },
          "title": {
           "x": 0.05
          },
          "xaxis": {
           "automargin": true,
           "gridcolor": "white",
           "linecolor": "white",
           "ticks": "",
           "title": {
            "standoff": 15
           },
           "zerolinecolor": "white",
           "zerolinewidth": 2
          },
          "yaxis": {
           "automargin": true,
           "gridcolor": "white",
           "linecolor": "white",
           "ticks": "",
           "title": {
            "standoff": 15
           },
           "zerolinecolor": "white",
           "zerolinewidth": 2
          }
         }
        },
        "title": {
         "text": "Non-rotating CL for 1 Blades"
        }
       }
      }
     },
     "metadata": {},
     "output_type": "display_data"
    },
    {
     "data": {
      "application/vnd.plotly.v1+json": {
       "config": {
        "plotlyServerURL": "https://plot.ly"
       },
       "data": [
        {
         "mode": "lines",
         "name": "Total",
         "type": "scatter",
         "x": {
          "bdata": "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",
          "dtype": "f8"
         },
         "y": {
          "bdata": "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",
          "dtype": "f8"
         }
        }
       ],
       "layout": {
        "template": {
         "data": {
          "bar": [
           {
            "error_x": {
             "color": "#2a3f5f"
            },
            "error_y": {
             "color": "#2a3f5f"
            },
            "marker": {
             "line": {
              "color": "#E5ECF6",
              "width": 0.5
             },
             "pattern": {
              "fillmode": "overlay",
              "size": 10,
              "solidity": 0.2
             }
            },
            "type": "bar"
           }
          ],
          "barpolar": [
           {
            "marker": {
             "line": {
              "color": "#E5ECF6",
              "width": 0.5
             },
             "pattern": {
              "fillmode": "overlay",
              "size": 10,
              "solidity": 0.2
             }
            },
            "type": "barpolar"
           }
          ],
          "carpet": [
           {
            "aaxis": {
             "endlinecolor": "#2a3f5f",
             "gridcolor": "white",
             "linecolor": "white",
             "minorgridcolor": "white",
             "startlinecolor": "#2a3f5f"
            },
            "baxis": {
             "endlinecolor": "#2a3f5f",
             "gridcolor": "white",
             "linecolor": "white",
             "minorgridcolor": "white",
             "startlinecolor": "#2a3f5f"
            },
            "type": "carpet"
           }
          ],
          "choropleth": [
           {
            "colorbar": {
             "outlinewidth": 0,
             "ticks": ""
            },
            "type": "choropleth"
           }
          ],
          "contour": [
           {
            "colorbar": {
             "outlinewidth": 0,
             "ticks": ""
            },
            "colorscale": [
             [
              0,
              "#0d0887"
             ],
             [
              0.1111111111111111,
              "#46039f"
             ],
             [
              0.2222222222222222,
              "#7201a8"
             ],
             [
              0.3333333333333333,
              "#9c179e"
             ],
             [
              0.4444444444444444,
              "#bd3786"
             ],
             [
              0.5555555555555556,
              "#d8576b"
             ],
             [
              0.6666666666666666,
              "#ed7953"
             ],
             [
              0.7777777777777778,
              "#fb9f3a"
             ],
             [
              0.8888888888888888,
              "#fdca26"
             ],
             [
              1,
              "#f0f921"
             ]
            ],
            "type": "contour"
           }
          ],
          "contourcarpet": [
           {
            "colorbar": {
             "outlinewidth": 0,
             "ticks": ""
            },
            "type": "contourcarpet"
           }
          ],
          "heatmap": [
           {
            "colorbar": {
             "outlinewidth": 0,
             "ticks": ""
            },
            "colorscale": [
             [
              0,
              "#0d0887"
             ],
             [
              0.1111111111111111,
              "#46039f"
             ],
             [
              0.2222222222222222,
              "#7201a8"
             ],
             [
              0.3333333333333333,
              "#9c179e"
             ],
             [
              0.4444444444444444,
              "#bd3786"
             ],
             [
              0.5555555555555556,
              "#d8576b"
             ],
             [
              0.6666666666666666,
              "#ed7953"
             ],
             [
              0.7777777777777778,
              "#fb9f3a"
             ],
             [
              0.8888888888888888,
              "#fdca26"
             ],
             [
              1,
              "#f0f921"
             ]
            ],
            "type": "heatmap"
           }
          ],
          "histogram": [
           {
            "marker": {
             "pattern": {
              "fillmode": "overlay",
              "size": 10,
              "solidity": 0.2
             }
            },
            "type": "histogram"
           }
          ],
          "histogram2d": [
           {
            "colorbar": {
             "outlinewidth": 0,
             "ticks": ""
            },
            "colorscale": [
             [
              0,
              "#0d0887"
             ],
             [
              0.1111111111111111,
              "#46039f"
             ],
             [
              0.2222222222222222,
              "#7201a8"
             ],
             [
              0.3333333333333333,
              "#9c179e"
             ],
             [
              0.4444444444444444,
              "#bd3786"
             ],
             [
              0.5555555555555556,
              "#d8576b"
             ],
             [
              0.6666666666666666,
              "#ed7953"
             ],
             [
              0.7777777777777778,
              "#fb9f3a"
             ],
             [
              0.8888888888888888,
              "#fdca26"
             ],
             [
              1,
              "#f0f921"
             ]
            ],
            "type": "histogram2d"
           }
          ],
          "histogram2dcontour": [
           {
            "colorbar": {
             "outlinewidth": 0,
             "ticks": ""
            },
            "colorscale": [
             [
              0,
              "#0d0887"
             ],
             [
              0.1111111111111111,
              "#46039f"
             ],
             [
              0.2222222222222222,
              "#7201a8"
             ],
             [
              0.3333333333333333,
              "#9c179e"
             ],
             [
              0.4444444444444444,
              "#bd3786"
             ],
             [
              0.5555555555555556,
              "#d8576b"
             ],
             [
              0.6666666666666666,
              "#ed7953"
             ],
             [
              0.7777777777777778,
              "#fb9f3a"
             ],
             [
              0.8888888888888888,
              "#fdca26"
             ],
             [
              1,
              "#f0f921"
             ]
            ],
            "type": "histogram2dcontour"
           }
          ],
          "mesh3d": [
           {
            "colorbar": {
             "outlinewidth": 0,
             "ticks": ""
            },
            "type": "mesh3d"
           }
          ],
          "parcoords": [
           {
            "line": {
             "colorbar": {
              "outlinewidth": 0,
              "ticks": ""
             }
            },
            "type": "parcoords"
           }
          ],
          "pie": [
           {
            "automargin": true,
            "type": "pie"
           }
          ],
          "scatter": [
           {
            "fillpattern": {
             "fillmode": "overlay",
             "size": 10,
             "solidity": 0.2
            },
            "type": "scatter"
           }
          ],
          "scatter3d": [
           {
            "line": {
             "colorbar": {
              "outlinewidth": 0,
              "ticks": ""
             }
            },
            "marker": {
             "colorbar": {
              "outlinewidth": 0,
              "ticks": ""
             }
            },
            "type": "scatter3d"
           }
          ],
          "scattercarpet": [
           {
            "marker": {
             "colorbar": {
              "outlinewidth": 0,
              "ticks": ""
             }
            },
            "type": "scattercarpet"
           }
          ],
          "scattergeo": [
           {
            "marker": {
             "colorbar": {
              "outlinewidth": 0,
              "ticks": ""
             }
            },
            "type": "scattergeo"
           }
          ],
          "scattergl": [
           {
            "marker": {
             "colorbar": {
              "outlinewidth": 0,
              "ticks": ""
             }
            },
            "type": "scattergl"
           }
          ],
          "scattermap": [
           {
            "marker": {
             "colorbar": {
              "outlinewidth": 0,
              "ticks": ""
             }
            },
            "type": "scattermap"
           }
          ],
          "scattermapbox": [
           {
            "marker": {
             "colorbar": {
              "outlinewidth": 0,
              "ticks": ""
             }
            },
            "type": "scattermapbox"
           }
          ],
          "scatterpolar": [
           {
            "marker": {
             "colorbar": {
              "outlinewidth": 0,
              "ticks": ""
             }
            },
            "type": "scatterpolar"
           }
          ],
          "scatterpolargl": [
           {
            "marker": {
             "colorbar": {
              "outlinewidth": 0,
              "ticks": ""
             }
            },
            "type": "scatterpolargl"
           }
          ],
          "scatterternary": [
           {
            "marker": {
             "colorbar": {
              "outlinewidth": 0,
              "ticks": ""
             }
            },
            "type": "scatterternary"
           }
          ],
          "surface": [
           {
            "colorbar": {
             "outlinewidth": 0,
             "ticks": ""
            },
            "colorscale": [
             [
              0,
              "#0d0887"
             ],
             [
              0.1111111111111111,
              "#46039f"
             ],
             [
              0.2222222222222222,
              "#7201a8"
             ],
             [
              0.3333333333333333,
              "#9c179e"
             ],
             [
              0.4444444444444444,
              "#bd3786"
             ],
             [
              0.5555555555555556,
              "#d8576b"
             ],
             [
              0.6666666666666666,
              "#ed7953"
             ],
             [
              0.7777777777777778,
              "#fb9f3a"
             ],
             [
              0.8888888888888888,
              "#fdca26"
             ],
             [
              1,
              "#f0f921"
             ]
            ],
            "type": "surface"
           }
          ],
          "table": [
           {
            "cells": {
             "fill": {
              "color": "#EBF0F8"
             },
             "line": {
              "color": "white"
             }
            },
            "header": {
             "fill": {
              "color": "#C8D4E3"
             },
             "line": {
              "color": "white"
             }
            },
            "type": "table"
           }
          ]
         },
         "layout": {
          "annotationdefaults": {
           "arrowcolor": "#2a3f5f",
           "arrowhead": 0,
           "arrowwidth": 1
          },
          "autotypenumbers": "strict",
          "coloraxis": {
           "colorbar": {
            "outlinewidth": 0,
            "ticks": ""
           }
          },
          "colorscale": {
           "diverging": [
            [
             0,
             "#8e0152"
            ],
            [
             0.1,
             "#c51b7d"
            ],
            [
             0.2,
             "#de77ae"
            ],
            [
             0.3,
             "#f1b6da"
            ],
            [
             0.4,
             "#fde0ef"
            ],
            [
             0.5,
             "#f7f7f7"
            ],
            [
             0.6,
             "#e6f5d0"
            ],
            [
             0.7,
             "#b8e186"
            ],
            [
             0.8,
             "#7fbc41"
            ],
            [
             0.9,
             "#4d9221"
            ],
            [
             1,
             "#276419"
            ]
           ],
           "sequential": [
            [
             0,
             "#0d0887"
            ],
            [
             0.1111111111111111,
             "#46039f"
            ],
            [
             0.2222222222222222,
             "#7201a8"
            ],
            [
             0.3333333333333333,
             "#9c179e"
            ],
            [
             0.4444444444444444,
             "#bd3786"
            ],
            [
             0.5555555555555556,
             "#d8576b"
            ],
            [
             0.6666666666666666,
             "#ed7953"
            ],
            [
             0.7777777777777778,
             "#fb9f3a"
            ],
            [
             0.8888888888888888,
             "#fdca26"
            ],
            [
             1,
             "#f0f921"
            ]
           ],
           "sequentialminus": [
            [
             0,
             "#0d0887"
            ],
            [
             0.1111111111111111,
             "#46039f"
            ],
            [
             0.2222222222222222,
             "#7201a8"
            ],
            [
             0.3333333333333333,
             "#9c179e"
            ],
            [
             0.4444444444444444,
             "#bd3786"
            ],
            [
             0.5555555555555556,
             "#d8576b"
            ],
            [
             0.6666666666666666,
             "#ed7953"
            ],
            [
             0.7777777777777778,
             "#fb9f3a"
            ],
            [
             0.8888888888888888,
             "#fdca26"
            ],
            [
             1,
             "#f0f921"
            ]
           ]
          },
          "colorway": [
           "#636efa",
           "#EF553B",
           "#00cc96",
           "#ab63fa",
           "#FFA15A",
           "#19d3f3",
           "#FF6692",
           "#B6E880",
           "#FF97FF",
           "#FECB52"
          ],
          "font": {
           "color": "#2a3f5f"
          },
          "geo": {
           "bgcolor": "white",
           "lakecolor": "white",
           "landcolor": "#E5ECF6",
           "showlakes": true,
           "showland": true,
           "subunitcolor": "white"
          },
          "hoverlabel": {
           "align": "left"
          },
          "hovermode": "closest",
          "mapbox": {
           "style": "light"
          },
          "paper_bgcolor": "white",
          "plot_bgcolor": "#E5ECF6",
          "polar": {
           "angularaxis": {
            "gridcolor": "white",
            "linecolor": "white",
            "ticks": ""
           },
           "bgcolor": "#E5ECF6",
           "radialaxis": {
            "gridcolor": "white",
            "linecolor": "white",
            "ticks": ""
           }
          },
          "scene": {
           "xaxis": {
            "backgroundcolor": "#E5ECF6",
            "gridcolor": "white",
            "gridwidth": 2,
            "linecolor": "white",
            "showbackground": true,
            "ticks": "",
            "zerolinecolor": "white"
           },
           "yaxis": {
            "backgroundcolor": "#E5ECF6",
            "gridcolor": "white",
            "gridwidth": 2,
            "linecolor": "white",
            "showbackground": true,
            "ticks": "",
            "zerolinecolor": "white"
           },
           "zaxis": {
            "backgroundcolor": "#E5ECF6",
            "gridcolor": "white",
            "gridwidth": 2,
            "linecolor": "white",
            "showbackground": true,
            "ticks": "",
            "zerolinecolor": "white"
           }
          },
          "shapedefaults": {
           "line": {
            "color": "#2a3f5f"
           }
          },
          "ternary": {
           "aaxis": {
            "gridcolor": "white",
            "linecolor": "white",
            "ticks": ""
           },
           "baxis": {
            "gridcolor": "white",
            "linecolor": "white",
            "ticks": ""
           },
           "bgcolor": "#E5ECF6",
           "caxis": {
            "gridcolor": "white",
            "linecolor": "white",
            "ticks": ""
           }
          },
          "title": {
           "x": 0.05
          },
          "xaxis": {
           "automargin": true,
           "gridcolor": "white",
           "linecolor": "white",
           "ticks": "",
           "title": {
            "standoff": 15
           },
           "zerolinecolor": "white",
           "zerolinewidth": 2
          },
          "yaxis": {
           "automargin": true,
           "gridcolor": "white",
           "linecolor": "white",
           "ticks": "",
           "title": {
            "standoff": 15
           },
           "zerolinecolor": "white",
           "zerolinewidth": 2
          }
         }
        },
        "title": {
         "text": "Non-rotating CM for 1 Blades"
        }
       }
      }
     },
     "metadata": {},
     "output_type": "display_data"
    },
    {
     "data": {
      "application/vnd.plotly.v1+json": {
       "config": {
        "plotlyServerURL": "https://plot.ly"
       },
       "data": [
        {
         "mode": "lines",
         "name": "Blade 1",
         "type": "scatter",
         "x": {
          "bdata": "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",
          "dtype": "f8"
         },
         "y": {
          "bdata": "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",
          "dtype": "f8"
         }
        },
        {
         "mode": "lines",
         "name": "Blade 2",
         "type": "scatter",
         "x": {
          "bdata": "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",
          "dtype": "f8"
         },
         "y": {
          "bdata": "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",
          "dtype": "f8"
         }
        },
        {
         "mode": "lines",
         "name": "Total",
         "type": "scatter",
         "x": {
          "bdata": "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",
          "dtype": "f8"
         },
         "y": {
          "bdata": "AAAAAABAn0AAAAAAAECfQAAAAAAAQJ9AAAAAAABAn0AAAAAAAECfQAAAAAAAQJ9AAAAAAABAn0AAAAAAAECfQAAAAAAAQJ9AAAAAAABAn0AAAAAAAECfQAAAAAAAQJ9AAAAAAABAn0AAAAAAAECfQAAAAAAAQJ9AAAAAAABAn0AAAAAAAECfQAAAAAAAQJ9AAAAAAABAn0AAAAAAAECfQAAAAAAAQJ9AAAAAAABAn0AAAAAAAECfQAAAAAAAQJ9AAAAAAABAn0AAAAAAAECfQAAAAAAAQJ9AAAAAAABAn0AAAAAAAECfQAAAAAAAQJ9AAAAAAABAn0AAAAAAAECfQAAAAAAAQJ9AAAAAAABAn0AAAAAAAECfQAAAAAAAQJ9AAAAAAABAn0AAAAAAAECfQAAAAAAAQJ9AAAAAAABAn0AAAAAAAECfQAAAAAAAQJ9AAAAAAABAn0AAAAAAAECfQAAAAAAAQJ9AAAAAAABAn0AAAAAAAECfQAAAAAAAQJ9AAAAAAABAn0AAAAAAAECfQAAAAAAAQJ9AAAAAAABAn0AAAAAAAECfQAAAAAAAQJ9AAAAAAABAn0AAAAAAAECfQAAAAAAAQJ9AAAAAAABAn0AAAAAAAECfQAAAAAAAQJ9AAAAAAABAn0AAAAAAAECfQAAAAAAAQJ9AAAAAAABAn0AAAAAAAECfQAAAAAAAQJ9AAAAAAABAn0AAAAAAAECfQAAAAAAAQJ9AAAAAAABAn0AAAAAAAECfQAAAAAAAQJ9AAAAAAABAn0AAAAAAAECfQAAAAAAAQJ9AAAAAAABAn0AAAAAAAECfQAAAAAAAQJ9AAAAAAABAn0AAAAAAAECfQAAAAAAAQJ9AAAAAAABAn0AAAAAAAECfQAAAAAAAQJ9AAAAAAABAn0AAAAAAAECfQAAAAAAAQJ9AAAAAAABAn0AAAAAAAECfQAAAAAAAQJ9AAAAAAABAn0AAAAAAAECfQAAAAAAAQJ9AAAAAAABAn0AAAAAAAECfQAAAAAAAQJ9AAAAAAABAn0AAAAAAAECfQAAAAAAAQJ9AAAAAAABAn0AAAAAAAECfQAAAAAAAQJ9AAAAAAABAn0AAAAAAAECfQAAAAAAAQJ9AAAAAAABAn0AAAAAAAECfQAAAAAAAQJ9AAAAAAABAn0AAAAAAAECfQAAAAAAAQJ9AAAAAAABAn0AAAAAAAECfQAAAAAAAQJ9AAAAAAABAn0AAAAAAAECfQAAAAAAAQJ9AAAAAAABAn0AAAAAAAECfQAAAAAAAQJ9AAAAAAABAn0AAAAAAAECfQAAAAAAAQJ9AAAAAAABAn0AAAAAAAECfQAAAAAAAQJ9AAAAAAABAn0AAAAAAAECfQAAAAAAAQJ9AAAAAAABAn0AAAAAAAECfQAAAAAAAQJ9AAAAAAABAn0AAAAAAAECfQAAAAAAAQJ9AAAAAAABAn0AAAAAAAECfQAAAAAAAQJ9AAAAAAABAn0AAAAAAAECfQAAAAAAAQJ9AAAAAAABAn0AAAAAAAECfQAAAAAAAQJ9AAAAAAABAn0AAAAAAAECfQAAAAAAAQJ9AAAAAAABAn0AAAAAAAECfQAAAAAAAQJ9AAAAAAABAn0AAAAAAAECfQAAAAAAAQJ9AAAAAAABAn0AAAAAAAECfQAAAAAAAQJ9AAAAAAABAn0AAAAAAAECfQAAAAAAAQJ9AAAAAAABAn0AAAAAAAECfQAAAAAAAQJ9AAAAAAABAn0AAAAAAAECfQAAAAAAAQJ9AAAAAAABAn0AAAAAAAECfQAAAAAAAQJ9AAAAAAABAn0AAAAAAAECfQAAAAAAAQJ9AAAAAAABAn0AAAAAAAECfQAAAAAAAQJ9AAAAAAABAn0AAAAAAAECfQAAAAAAAQJ9AAAAAAABAn0AAAAAAAECfQAAAAAAAQJ9AAAAAAABAn0AAAAAAAECfQAAAAAAAQJ9AAAAAAABAn0AAAAAAAECfQAAAAAAAQJ9AAAAAAABAn0AAAAAAAECfQAAAAAAAQJ9AAAAAAABAn0AAAAAAAECfQAAAAAAAQJ9AAAAAAABAn0AAAAAAAECfQAAAAAAAQJ9AAAAAAABAn0AAAAAAAECfQAAAAAAAQJ9AAAAAAABAn0AAAAAAAECfQAAAAAAAQJ9AAAAAAABAn0AAAAAAAECfQAAAAAAAQJ9AAAAAAABAn0AAAAAAAECfQAAAAAAAQJ9AAAAAAABAn0AAAAAAAECfQAAAAAAAQJ9AAAAAAABAn0AAAAAAAECfQAAAAAAAQJ9AAAAAAABAn0AAAAAAAECfQAAAAAAAQJ9AAAAAAABAn0AAAAAAAECfQAAAAAAAQJ9AAAAAAABAn0AAAAAAAECfQAAAAAAAQJ9AAAAAAABAn0AAAAAAAECfQAAAAAAAQJ9AAAAAAABAn0AAAAAAAECfQAAAAAAAQJ9AAAAAAABAn0AAAAAAAECfQAAAAAAAQJ9AAAAAAABAn0AAAAAAAECfQAAAAAAAQJ9AAAAAAABAn0AAAAAAAECfQAAAAAAAQJ9AAAAAAABAn0AAAAAAAECfQAAAAAAAQJ9AAAAAAABAn0AAAAAAAECfQAAAAAAAQJ9AAAAAAABAn0AAAAAAAECfQAAAAAAAQJ9AAAAAAABAn0AAAAAAAECfQAAAAAAAQJ9AAAAAAABAn0AAAAAAAECfQAAAAAAAQJ9AAAAAAABAn0AAAAAAAECfQAAAAAAAQJ9AAAAAAABAn0AAAAAAAECfQAAAAAAAQJ9AAAAAAABAn0AAAAAAAECfQAAAAAAAQJ9AAAAAAABAn0AAAAAAAECfQAAAAAAAQJ9AAAAAAABAn0AAAAAAAECfQAAAAAAAQJ9AAAAAAABAn0AAAAAAAECfQAAAAAAAQJ9AAAAAAABAn0AAAAAAAECfQAAAAAAAQJ9AAAAAAABAn0AAAAAAAECfQAAAAAAAQJ9AAAAAAABAn0AAAAAAAECfQAAAAAAAQJ9AAAAAAABAn0AAAAAAAECfQAAAAAAAQJ9AAAAAAABAn0AAAAAAAECfQAAAAAAAQJ9AAAAAAABAn0AAAAAAAECfQAAAAAAAQJ9AAAAAAABAn0AAAAAAAECfQAAAAAAAQJ9AAAAAAABAn0AAAAAAAECfQAAAAAAAQJ9AAAAAAABAn0AAAAAAAECfQAAAAAAAQJ9AAAAAAABAn0AAAAAAAECfQAAAAAAAQJ9AAAAAAABAn0AAAAAAAECfQAAAAAAAQJ9AAAAAAABAn0AAAAAAAECfQAAAAAAAQJ9AAAAAAABAn0AAAAAAAECfQAAAAAAAQJ9AAAAAAABAn0AAAAAAAECfQAAAAAAAQJ9AAAAAAABAn0AAAAAAAECfQAAAAAAAQJ9AAAAAAABAn0AAAAAAAECfQAAAAAAAQJ9AAAAAAABAn0AAAAAAAECfQAAAAAAAQJ9AAAAAAABAn0AAAAAAAECfQAAAAAAAQJ9AAAAAAABAn0AAAAAAAECfQAAAAAAAQJ9AAAAAAABAn0AAAAAAAECfQAAAAAAAQJ9AAAAAAABAn0AAAAAAAECfQAAAAAAAQJ9AAAAAAABAn0AAAAAAAECfQAAAAAAAQJ9AAAAAAABAn0AAAAAAAECfQAAAAAAAQJ9AAAAAAABAn0AAAAAAAECfQAAAAAAAQJ9AAAAAAABAn0AAAAAAAECfQAAAAAAAQJ9AAAAAAABAn0AAAAAAAECfQAAAAAAAQJ9AAAAAAABAn0AAAAAAAECfQAAAAAAAQJ9AAAAAAABAn0AAAAAAAECfQAAAAAAAQJ9AAAAAAABAn0AAAAAAAECfQAAAAAAAQJ9AAAAAAABAn0AAAAAAAECfQAAAAAAAQJ9A",
          "dtype": "f8"
         }
        }
       ],
       "layout": {
        "template": {
         "data": {
          "bar": [
           {
            "error_x": {
             "color": "#2a3f5f"
            },
            "error_y": {
             "color": "#2a3f5f"
            },
            "marker": {
             "line": {
              "color": "#E5ECF6",
              "width": 0.5
             },
             "pattern": {
              "fillmode": "overlay",
              "size": 10,
              "solidity": 0.2
             }
            },
            "type": "bar"
           }
          ],
          "barpolar": [
           {
            "marker": {
             "line": {
              "color": "#E5ECF6",
              "width": 0.5
             },
             "pattern": {
              "fillmode": "overlay",
              "size": 10,
              "solidity": 0.2
             }
            },
            "type": "barpolar"
           }
          ],
          "carpet": [
           {
            "aaxis": {
             "endlinecolor": "#2a3f5f",
             "gridcolor": "white",
             "linecolor": "white",
             "minorgridcolor": "white",
             "startlinecolor": "#2a3f5f"
            },
            "baxis": {
             "endlinecolor": "#2a3f5f",
             "gridcolor": "white",
             "linecolor": "white",
             "minorgridcolor": "white",
             "startlinecolor": "#2a3f5f"
            },
            "type": "carpet"
           }
          ],
          "choropleth": [
           {
            "colorbar": {
             "outlinewidth": 0,
             "ticks": ""
            },
            "type": "choropleth"
           }
          ],
          "contour": [
           {
            "colorbar": {
             "outlinewidth": 0,
             "ticks": ""
            },
            "colorscale": [
             [
              0,
              "#0d0887"
             ],
             [
              0.1111111111111111,
              "#46039f"
             ],
             [
              0.2222222222222222,
              "#7201a8"
             ],
             [
              0.3333333333333333,
              "#9c179e"
             ],
             [
              0.4444444444444444,
              "#bd3786"
             ],
             [
              0.5555555555555556,
              "#d8576b"
             ],
             [
              0.6666666666666666,
              "#ed7953"
             ],
             [
              0.7777777777777778,
              "#fb9f3a"
             ],
             [
              0.8888888888888888,
              "#fdca26"
             ],
             [
              1,
              "#f0f921"
             ]
            ],
            "type": "contour"
           }
          ],
          "contourcarpet": [
           {
            "colorbar": {
             "outlinewidth": 0,
             "ticks": ""
            },
            "type": "contourcarpet"
           }
          ],
          "heatmap": [
           {
            "colorbar": {
             "outlinewidth": 0,
             "ticks": ""
            },
            "colorscale": [
             [
              0,
              "#0d0887"
             ],
             [
              0.1111111111111111,
              "#46039f"
             ],
             [
              0.2222222222222222,
              "#7201a8"
             ],
             [
              0.3333333333333333,
              "#9c179e"
             ],
             [
              0.4444444444444444,
              "#bd3786"
             ],
             [
              0.5555555555555556,
              "#d8576b"
             ],
             [
              0.6666666666666666,
              "#ed7953"
             ],
             [
              0.7777777777777778,
              "#fb9f3a"
             ],
             [
              0.8888888888888888,
              "#fdca26"
             ],
             [
              1,
              "#f0f921"
             ]
            ],
            "type": "heatmap"
           }
          ],
          "histogram": [
           {
            "marker": {
             "pattern": {
              "fillmode": "overlay",
              "size": 10,
              "solidity": 0.2
             }
            },
            "type": "histogram"
           }
          ],
          "histogram2d": [
           {
            "colorbar": {
             "outlinewidth": 0,
             "ticks": ""
            },
            "colorscale": [
             [
              0,
              "#0d0887"
             ],
             [
              0.1111111111111111,
              "#46039f"
             ],
             [
              0.2222222222222222,
              "#7201a8"
             ],
             [
              0.3333333333333333,
              "#9c179e"
             ],
             [
              0.4444444444444444,
              "#bd3786"
             ],
             [
              0.5555555555555556,
              "#d8576b"
             ],
             [
              0.6666666666666666,
              "#ed7953"
             ],
             [
              0.7777777777777778,
              "#fb9f3a"
             ],
             [
              0.8888888888888888,
              "#fdca26"
             ],
             [
              1,
              "#f0f921"
             ]
            ],
            "type": "histogram2d"
           }
          ],
          "histogram2dcontour": [
           {
            "colorbar": {
             "outlinewidth": 0,
             "ticks": ""
            },
            "colorscale": [
             [
              0,
              "#0d0887"
             ],
             [
              0.1111111111111111,
              "#46039f"
             ],
             [
              0.2222222222222222,
              "#7201a8"
             ],
             [
              0.3333333333333333,
              "#9c179e"
             ],
             [
              0.4444444444444444,
              "#bd3786"
             ],
             [
              0.5555555555555556,
              "#d8576b"
             ],
             [
              0.6666666666666666,
              "#ed7953"
             ],
             [
              0.7777777777777778,
              "#fb9f3a"
             ],
             [
              0.8888888888888888,
              "#fdca26"
             ],
             [
              1,
              "#f0f921"
             ]
            ],
            "type": "histogram2dcontour"
           }
          ],
          "mesh3d": [
           {
            "colorbar": {
             "outlinewidth": 0,
             "ticks": ""
            },
            "type": "mesh3d"
           }
          ],
          "parcoords": [
           {
            "line": {
             "colorbar": {
              "outlinewidth": 0,
              "ticks": ""
             }
            },
            "type": "parcoords"
           }
          ],
          "pie": [
           {
            "automargin": true,
            "type": "pie"
           }
          ],
          "scatter": [
           {
            "fillpattern": {
             "fillmode": "overlay",
             "size": 10,
             "solidity": 0.2
            },
            "type": "scatter"
           }
          ],
          "scatter3d": [
           {
            "line": {
             "colorbar": {
              "outlinewidth": 0,
              "ticks": ""
             }
            },
            "marker": {
             "colorbar": {
              "outlinewidth": 0,
              "ticks": ""
             }
            },
            "type": "scatter3d"
           }
          ],
          "scattercarpet": [
           {
            "marker": {
             "colorbar": {
              "outlinewidth": 0,
              "ticks": ""
             }
            },
            "type": "scattercarpet"
           }
          ],
          "scattergeo": [
           {
            "marker": {
             "colorbar": {
              "outlinewidth": 0,
              "ticks": ""
             }
            },
            "type": "scattergeo"
           }
          ],
          "scattergl": [
           {
            "marker": {
             "colorbar": {
              "outlinewidth": 0,
              "ticks": ""
             }
            },
            "type": "scattergl"
           }
          ],
          "scattermap": [
           {
            "marker": {
             "colorbar": {
              "outlinewidth": 0,
              "ticks": ""
             }
            },
            "type": "scattermap"
           }
          ],
          "scattermapbox": [
           {
            "marker": {
             "colorbar": {
              "outlinewidth": 0,
              "ticks": ""
             }
            },
            "type": "scattermapbox"
           }
          ],
          "scatterpolar": [
           {
            "marker": {
             "colorbar": {
              "outlinewidth": 0,
              "ticks": ""
             }
            },
            "type": "scatterpolar"
           }
          ],
          "scatterpolargl": [
           {
            "marker": {
             "colorbar": {
              "outlinewidth": 0,
              "ticks": ""
             }
            },
            "type": "scatterpolargl"
           }
          ],
          "scatterternary": [
           {
            "marker": {
             "colorbar": {
              "outlinewidth": 0,
              "ticks": ""
             }
            },
            "type": "scatterternary"
           }
          ],
          "surface": [
           {
            "colorbar": {
             "outlinewidth": 0,
             "ticks": ""
            },
            "colorscale": [
             [
              0,
              "#0d0887"
             ],
             [
              0.1111111111111111,
              "#46039f"
             ],
             [
              0.2222222222222222,
              "#7201a8"
             ],
             [
              0.3333333333333333,
              "#9c179e"
             ],
             [
              0.4444444444444444,
              "#bd3786"
             ],
             [
              0.5555555555555556,
              "#d8576b"
             ],
             [
              0.6666666666666666,
              "#ed7953"
             ],
             [
              0.7777777777777778,
              "#fb9f3a"
             ],
             [
              0.8888888888888888,
              "#fdca26"
             ],
             [
              1,
              "#f0f921"
             ]
            ],
            "type": "surface"
           }
          ],
          "table": [
           {
            "cells": {
             "fill": {
              "color": "#EBF0F8"
             },
             "line": {
              "color": "white"
             }
            },
            "header": {
             "fill": {
              "color": "#C8D4E3"
             },
             "line": {
              "color": "white"
             }
            },
            "type": "table"
           }
          ]
         },
         "layout": {
          "annotationdefaults": {
           "arrowcolor": "#2a3f5f",
           "arrowhead": 0,
           "arrowwidth": 1
          },
          "autotypenumbers": "strict",
          "coloraxis": {
           "colorbar": {
            "outlinewidth": 0,
            "ticks": ""
           }
          },
          "colorscale": {
           "diverging": [
            [
             0,
             "#8e0152"
            ],
            [
             0.1,
             "#c51b7d"
            ],
            [
             0.2,
             "#de77ae"
            ],
            [
             0.3,
             "#f1b6da"
            ],
            [
             0.4,
             "#fde0ef"
            ],
            [
             0.5,
             "#f7f7f7"
            ],
            [
             0.6,
             "#e6f5d0"
            ],
            [
             0.7,
             "#b8e186"
            ],
            [
             0.8,
             "#7fbc41"
            ],
            [
             0.9,
             "#4d9221"
            ],
            [
             1,
             "#276419"
            ]
           ],
           "sequential": [
            [
             0,
             "#0d0887"
            ],
            [
             0.1111111111111111,
             "#46039f"
            ],
            [
             0.2222222222222222,
             "#7201a8"
            ],
            [
             0.3333333333333333,
             "#9c179e"
            ],
            [
             0.4444444444444444,
             "#bd3786"
            ],
            [
             0.5555555555555556,
             "#d8576b"
            ],
            [
             0.6666666666666666,
             "#ed7953"
            ],
            [
             0.7777777777777778,
             "#fb9f3a"
            ],
            [
             0.8888888888888888,
             "#fdca26"
            ],
            [
             1,
             "#f0f921"
            ]
           ],
           "sequentialminus": [
            [
             0,
             "#0d0887"
            ],
            [
             0.1111111111111111,
             "#46039f"
            ],
            [
             0.2222222222222222,
             "#7201a8"
            ],
            [
             0.3333333333333333,
             "#9c179e"
            ],
            [
             0.4444444444444444,
             "#bd3786"
            ],
            [
             0.5555555555555556,
             "#d8576b"
            ],
            [
             0.6666666666666666,
             "#ed7953"
            ],
            [
             0.7777777777777778,
             "#fb9f3a"
            ],
            [
             0.8888888888888888,
             "#fdca26"
            ],
            [
             1,
             "#f0f921"
            ]
           ]
          },
          "colorway": [
           "#636efa",
           "#EF553B",
           "#00cc96",
           "#ab63fa",
           "#FFA15A",
           "#19d3f3",
           "#FF6692",
           "#B6E880",
           "#FF97FF",
           "#FECB52"
          ],
          "font": {
           "color": "#2a3f5f"
          },
          "geo": {
           "bgcolor": "white",
           "lakecolor": "white",
           "landcolor": "#E5ECF6",
           "showlakes": true,
           "showland": true,
           "subunitcolor": "white"
          },
          "hoverlabel": {
           "align": "left"
          },
          "hovermode": "closest",
          "mapbox": {
           "style": "light"
          },
          "paper_bgcolor": "white",
          "plot_bgcolor": "#E5ECF6",
          "polar": {
           "angularaxis": {
            "gridcolor": "white",
            "linecolor": "white",
            "ticks": ""
           },
           "bgcolor": "#E5ECF6",
           "radialaxis": {
            "gridcolor": "white",
            "linecolor": "white",
            "ticks": ""
           }
          },
          "scene": {
           "xaxis": {
            "backgroundcolor": "#E5ECF6",
            "gridcolor": "white",
            "gridwidth": 2,
            "linecolor": "white",
            "showbackground": true,
            "ticks": "",
            "zerolinecolor": "white"
           },
           "yaxis": {
            "backgroundcolor": "#E5ECF6",
            "gridcolor": "white",
            "gridwidth": 2,
            "linecolor": "white",
            "showbackground": true,
            "ticks": "",
            "zerolinecolor": "white"
           },
           "zaxis": {
            "backgroundcolor": "#E5ECF6",
            "gridcolor": "white",
            "gridwidth": 2,
            "linecolor": "white",
            "showbackground": true,
            "ticks": "",
            "zerolinecolor": "white"
           }
          },
          "shapedefaults": {
           "line": {
            "color": "#2a3f5f"
           }
          },
          "ternary": {
           "aaxis": {
            "gridcolor": "white",
            "linecolor": "white",
            "ticks": ""
           },
           "baxis": {
            "gridcolor": "white",
            "linecolor": "white",
            "ticks": ""
           },
           "bgcolor": "#E5ECF6",
           "caxis": {
            "gridcolor": "white",
            "linecolor": "white",
            "ticks": ""
           }
          },
          "title": {
           "x": 0.05
          },
          "xaxis": {
           "automargin": true,
           "gridcolor": "white",
           "linecolor": "white",
           "ticks": "",
           "title": {
            "standoff": 15
           },
           "zerolinecolor": "white",
           "zerolinewidth": 2
          },
          "yaxis": {
           "automargin": true,
           "gridcolor": "white",
           "linecolor": "white",
           "ticks": "",
           "title": {
            "standoff": 15
           },
           "zerolinecolor": "white",
           "zerolinewidth": 2
          }
         }
        },
        "title": {
         "text": "Non-rotating CL for 2 Blades"
        }
       }
      }
     },
     "metadata": {},
     "output_type": "display_data"
    },
    {
     "data": {
      "application/vnd.plotly.v1+json": {
       "config": {
        "plotlyServerURL": "https://plot.ly"
       },
       "data": [
        {
         "mode": "lines",
         "name": "Total",
         "type": "scatter",
         "x": {
          "bdata": "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",
          "dtype": "f8"
         },
         "y": {
          "bdata": "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",
          "dtype": "f8"
         }
        }
       ],
       "layout": {
        "template": {
         "data": {
          "bar": [
           {
            "error_x": {
             "color": "#2a3f5f"
            },
            "error_y": {
             "color": "#2a3f5f"
            },
            "marker": {
             "line": {
              "color": "#E5ECF6",
              "width": 0.5
             },
             "pattern": {
              "fillmode": "overlay",
              "size": 10,
              "solidity": 0.2
             }
            },
            "type": "bar"
           }
          ],
          "barpolar": [
           {
            "marker": {
             "line": {
              "color": "#E5ECF6",
              "width": 0.5
             },
             "pattern": {
              "fillmode": "overlay",
              "size": 10,
              "solidity": 0.2
             }
            },
            "type": "barpolar"
           }
          ],
          "carpet": [
           {
            "aaxis": {
             "endlinecolor": "#2a3f5f",
             "gridcolor": "white",
             "linecolor": "white",
             "minorgridcolor": "white",
             "startlinecolor": "#2a3f5f"
            },
            "baxis": {
             "endlinecolor": "#2a3f5f",
             "gridcolor": "white",
             "linecolor": "white",
             "minorgridcolor": "white",
             "startlinecolor": "#2a3f5f"
            },
            "type": "carpet"
           }
          ],
          "choropleth": [
           {
            "colorbar": {
             "outlinewidth": 0,
             "ticks": ""
            },
            "type": "choropleth"
           }
          ],
          "contour": [
           {
            "colorbar": {
             "outlinewidth": 0,
             "ticks": ""
            },
            "colorscale": [
             [
              0,
              "#0d0887"
             ],
             [
              0.1111111111111111,
              "#46039f"
             ],
             [
              0.2222222222222222,
              "#7201a8"
             ],
             [
              0.3333333333333333,
              "#9c179e"
             ],
             [
              0.4444444444444444,
              "#bd3786"
             ],
             [
              0.5555555555555556,
              "#d8576b"
             ],
             [
              0.6666666666666666,
              "#ed7953"
             ],
             [
              0.7777777777777778,
              "#fb9f3a"
             ],
             [
              0.8888888888888888,
              "#fdca26"
             ],
             [
              1,
              "#f0f921"
             ]
            ],
            "type": "contour"
           }
          ],
          "contourcarpet": [
           {
            "colorbar": {
             "outlinewidth": 0,
             "ticks": ""
            },
            "type": "contourcarpet"
           }
          ],
          "heatmap": [
           {
            "colorbar": {
             "outlinewidth": 0,
             "ticks": ""
            },
            "colorscale": [
             [
              0,
              "#0d0887"
             ],
             [
              0.1111111111111111,
              "#46039f"
             ],
             [
              0.2222222222222222,
              "#7201a8"
             ],
             [
              0.3333333333333333,
              "#9c179e"
             ],
             [
              0.4444444444444444,
              "#bd3786"
             ],
             [
              0.5555555555555556,
              "#d8576b"
             ],
             [
              0.6666666666666666,
              "#ed7953"
             ],
             [
              0.7777777777777778,
              "#fb9f3a"
             ],
             [
              0.8888888888888888,
              "#fdca26"
             ],
             [
              1,
              "#f0f921"
             ]
            ],
            "type": "heatmap"
           }
          ],
          "histogram": [
           {
            "marker": {
             "pattern": {
              "fillmode": "overlay",
              "size": 10,
              "solidity": 0.2
             }
            },
            "type": "histogram"
           }
          ],
          "histogram2d": [
           {
            "colorbar": {
             "outlinewidth": 0,
             "ticks": ""
            },
            "colorscale": [
             [
              0,
              "#0d0887"
             ],
             [
              0.1111111111111111,
              "#46039f"
             ],
             [
              0.2222222222222222,
              "#7201a8"
             ],
             [
              0.3333333333333333,
              "#9c179e"
             ],
             [
              0.4444444444444444,
              "#bd3786"
             ],
             [
              0.5555555555555556,
              "#d8576b"
             ],
             [
              0.6666666666666666,
              "#ed7953"
             ],
             [
              0.7777777777777778,
              "#fb9f3a"
             ],
             [
              0.8888888888888888,
              "#fdca26"
             ],
             [
              1,
              "#f0f921"
             ]
            ],
            "type": "histogram2d"
           }
          ],
          "histogram2dcontour": [
           {
            "colorbar": {
             "outlinewidth": 0,
             "ticks": ""
            },
            "colorscale": [
             [
              0,
              "#0d0887"
             ],
             [
              0.1111111111111111,
              "#46039f"
             ],
             [
              0.2222222222222222,
              "#7201a8"
             ],
             [
              0.3333333333333333,
              "#9c179e"
             ],
             [
              0.4444444444444444,
              "#bd3786"
             ],
             [
              0.5555555555555556,
              "#d8576b"
             ],
             [
              0.6666666666666666,
              "#ed7953"
             ],
             [
              0.7777777777777778,
              "#fb9f3a"
             ],
             [
              0.8888888888888888,
              "#fdca26"
             ],
             [
              1,
              "#f0f921"
             ]
            ],
            "type": "histogram2dcontour"
           }
          ],
          "mesh3d": [
           {
            "colorbar": {
             "outlinewidth": 0,
             "ticks": ""
            },
            "type": "mesh3d"
           }
          ],
          "parcoords": [
           {
            "line": {
             "colorbar": {
              "outlinewidth": 0,
              "ticks": ""
             }
            },
            "type": "parcoords"
           }
          ],
          "pie": [
           {
            "automargin": true,
            "type": "pie"
           }
          ],
          "scatter": [
           {
            "fillpattern": {
             "fillmode": "overlay",
             "size": 10,
             "solidity": 0.2
            },
            "type": "scatter"
           }
          ],
          "scatter3d": [
           {
            "line": {
             "colorbar": {
              "outlinewidth": 0,
              "ticks": ""
             }
            },
            "marker": {
             "colorbar": {
              "outlinewidth": 0,
              "ticks": ""
             }
            },
            "type": "scatter3d"
           }
          ],
          "scattercarpet": [
           {
            "marker": {
             "colorbar": {
              "outlinewidth": 0,
              "ticks": ""
             }
            },
            "type": "scattercarpet"
           }
          ],
          "scattergeo": [
           {
            "marker": {
             "colorbar": {
              "outlinewidth": 0,
              "ticks": ""
             }
            },
            "type": "scattergeo"
           }
          ],
          "scattergl": [
           {
            "marker": {
             "colorbar": {
              "outlinewidth": 0,
              "ticks": ""
             }
            },
            "type": "scattergl"
           }
          ],
          "scattermap": [
           {
            "marker": {
             "colorbar": {
              "outlinewidth": 0,
              "ticks": ""
             }
            },
            "type": "scattermap"
           }
          ],
          "scattermapbox": [
           {
            "marker": {
             "colorbar": {
              "outlinewidth": 0,
              "ticks": ""
             }
            },
            "type": "scattermapbox"
           }
          ],
          "scatterpolar": [
           {
            "marker": {
             "colorbar": {
              "outlinewidth": 0,
              "ticks": ""
             }
            },
            "type": "scatterpolar"
           }
          ],
          "scatterpolargl": [
           {
            "marker": {
             "colorbar": {
              "outlinewidth": 0,
              "ticks": ""
             }
            },
            "type": "scatterpolargl"
           }
          ],
          "scatterternary": [
           {
            "marker": {
             "colorbar": {
              "outlinewidth": 0,
              "ticks": ""
             }
            },
            "type": "scatterternary"
           }
          ],
          "surface": [
           {
            "colorbar": {
             "outlinewidth": 0,
             "ticks": ""
            },
            "colorscale": [
             [
              0,
              "#0d0887"
             ],
             [
              0.1111111111111111,
              "#46039f"
             ],
             [
              0.2222222222222222,
              "#7201a8"
             ],
             [
              0.3333333333333333,
              "#9c179e"
             ],
             [
              0.4444444444444444,
              "#bd3786"
             ],
             [
              0.5555555555555556,
              "#d8576b"
             ],
             [
              0.6666666666666666,
              "#ed7953"
             ],
             [
              0.7777777777777778,
              "#fb9f3a"
             ],
             [
              0.8888888888888888,
              "#fdca26"
             ],
             [
              1,
              "#f0f921"
             ]
            ],
            "type": "surface"
           }
          ],
          "table": [
           {
            "cells": {
             "fill": {
              "color": "#EBF0F8"
             },
             "line": {
              "color": "white"
             }
            },
            "header": {
             "fill": {
              "color": "#C8D4E3"
             },
             "line": {
              "color": "white"
             }
            },
            "type": "table"
           }
          ]
         },
         "layout": {
          "annotationdefaults": {
           "arrowcolor": "#2a3f5f",
           "arrowhead": 0,
           "arrowwidth": 1
          },
          "autotypenumbers": "strict",
          "coloraxis": {
           "colorbar": {
            "outlinewidth": 0,
            "ticks": ""
           }
          },
          "colorscale": {
           "diverging": [
            [
             0,
             "#8e0152"
            ],
            [
             0.1,
             "#c51b7d"
            ],
            [
             0.2,
             "#de77ae"
            ],
            [
             0.3,
             "#f1b6da"
            ],
            [
             0.4,
             "#fde0ef"
            ],
            [
             0.5,
             "#f7f7f7"
            ],
            [
             0.6,
             "#e6f5d0"
            ],
            [
             0.7,
             "#b8e186"
            ],
            [
             0.8,
             "#7fbc41"
            ],
            [
             0.9,
             "#4d9221"
            ],
            [
             1,
             "#276419"
            ]
           ],
           "sequential": [
            [
             0,
             "#0d0887"
            ],
            [
             0.1111111111111111,
             "#46039f"
            ],
            [
             0.2222222222222222,
             "#7201a8"
            ],
            [
             0.3333333333333333,
             "#9c179e"
            ],
            [
             0.4444444444444444,
             "#bd3786"
            ],
            [
             0.5555555555555556,
             "#d8576b"
            ],
            [
             0.6666666666666666,
             "#ed7953"
            ],
            [
             0.7777777777777778,
             "#fb9f3a"
            ],
            [
             0.8888888888888888,
             "#fdca26"
            ],
            [
             1,
             "#f0f921"
            ]
           ],
           "sequentialminus": [
            [
             0,
             "#0d0887"
            ],
            [
             0.1111111111111111,
             "#46039f"
            ],
            [
             0.2222222222222222,
             "#7201a8"
            ],
            [
             0.3333333333333333,
             "#9c179e"
            ],
            [
             0.4444444444444444,
             "#bd3786"
            ],
            [
             0.5555555555555556,
             "#d8576b"
            ],
            [
             0.6666666666666666,
             "#ed7953"
            ],
            [
             0.7777777777777778,
             "#fb9f3a"
            ],
            [
             0.8888888888888888,
             "#fdca26"
            ],
            [
             1,
             "#f0f921"
            ]
           ]
          },
          "colorway": [
           "#636efa",
           "#EF553B",
           "#00cc96",
           "#ab63fa",
           "#FFA15A",
           "#19d3f3",
           "#FF6692",
           "#B6E880",
           "#FF97FF",
           "#FECB52"
          ],
          "font": {
           "color": "#2a3f5f"
          },
          "geo": {
           "bgcolor": "white",
           "lakecolor": "white",
           "landcolor": "#E5ECF6",
           "showlakes": true,
           "showland": true,
           "subunitcolor": "white"
          },
          "hoverlabel": {
           "align": "left"
          },
          "hovermode": "closest",
          "mapbox": {
           "style": "light"
          },
          "paper_bgcolor": "white",
          "plot_bgcolor": "#E5ECF6",
          "polar": {
           "angularaxis": {
            "gridcolor": "white",
            "linecolor": "white",
            "ticks": ""
           },
           "bgcolor": "#E5ECF6",
           "radialaxis": {
            "gridcolor": "white",
            "linecolor": "white",
            "ticks": ""
           }
          },
          "scene": {
           "xaxis": {
            "backgroundcolor": "#E5ECF6",
            "gridcolor": "white",
            "gridwidth": 2,
            "linecolor": "white",
            "showbackground": true,
            "ticks": "",
            "zerolinecolor": "white"
           },
           "yaxis": {
            "backgroundcolor": "#E5ECF6",
            "gridcolor": "white",
            "gridwidth": 2,
            "linecolor": "white",
            "showbackground": true,
            "ticks": "",
            "zerolinecolor": "white"
           },
           "zaxis": {
            "backgroundcolor": "#E5ECF6",
            "gridcolor": "white",
            "gridwidth": 2,
            "linecolor": "white",
            "showbackground": true,
            "ticks": "",
            "zerolinecolor": "white"
           }
          },
          "shapedefaults": {
           "line": {
            "color": "#2a3f5f"
           }
          },
          "ternary": {
           "aaxis": {
            "gridcolor": "white",
            "linecolor": "white",
            "ticks": ""
           },
           "baxis": {
            "gridcolor": "white",
            "linecolor": "white",
            "ticks": ""
           },
           "bgcolor": "#E5ECF6",
           "caxis": {
            "gridcolor": "white",
            "linecolor": "white",
            "ticks": ""
           }
          },
          "title": {
           "x": 0.05
          },
          "xaxis": {
           "automargin": true,
           "gridcolor": "white",
           "linecolor": "white",
           "ticks": "",
           "title": {
            "standoff": 15
           },
           "zerolinecolor": "white",
           "zerolinewidth": 2
          },
          "yaxis": {
           "automargin": true,
           "gridcolor": "white",
           "linecolor": "white",
           "ticks": "",
           "title": {
            "standoff": 15
           },
           "zerolinecolor": "white",
           "zerolinewidth": 2
          }
         }
        },
        "title": {
         "text": "Non-rotating CM for 2 Blades"
        }
       }
      }
     },
     "metadata": {},
     "output_type": "display_data"
    },
    {
     "data": {
      "application/vnd.plotly.v1+json": {
       "config": {
        "plotlyServerURL": "https://plot.ly"
       },
       "data": [
        {
         "mode": "lines",
         "name": "Blade 1",
         "type": "scatter",
         "x": {
          "bdata": "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",
          "dtype": "f8"
         },
         "y": {
          "bdata": "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",
          "dtype": "f8"
         }
        },
        {
         "mode": "lines",
         "name": "Blade 2",
         "type": "scatter",
         "x": {
          "bdata": "AAAAAAAAAAA6SvM5BeyRPzpK8zkF7KE/V+/s1gfiqj86SvM5BeyxP8gccIgGZ7Y/V+/s1gfiuj/mwWklCV2/PzpK8zkF7ME/gbMx4YUpxD/IHHCIBmfGPxCGri+HpMg/V+/s1gfiyj+eWCt+iB/NP+bBaSUJXc8/lhVU5kTN0D86SvM5BezRP95+ko3FCtM/gbMx4YUp1D8l6NA0RkjVP8gccIgGZ9Y/bFEP3MaF1z8Qhq4vh6TYP7O6TYNHw9k/V+/s1gfi2j/7I4wqyADcP55YK36IH90/Qo3K0Ug+3j/mwWklCV3fP0V7hLzkPeA/lhVU5kTN4D/oryMQpVzhPzpK8zkF7OE/jOTCY2V74j/efpKNxQrjPy8ZYrclmuM/gbMx4YUp5D/TTQEL5rjkPyXo0DRGSOU/d4KgXqbX5T/IHHCIBmfmPxq3P7Jm9uY/bFEP3MaF5z++694FJxXoPxCGri+HpOg/YiB+Wecz6T+zuk2DR8PpPwVVHa2nUuo/V+/s1gfi6j+pibwAaHHrP/sjjCrIAOw/TL5bVCiQ7D+eWCt+iB/tP/Dy+qforu0/Qo3K0Ug+7j+UJ5r7qM3uP+bBaSUJXe8/N1w5T2ns7z9Fe4S85D3wP21IbNGUhfA/lhVU5kTN8D+/4jv79BTxP+ivIxClXPE/EX0LJVWk8T86SvM5BezxP2MX2061M/I/jOTCY2V78j+1sap4FcPyP95+ko3FCvM/B0x6onVS8z8vGWK3JZrzP1jmSczV4fM/gbMx4YUp9D+qgBn2NXH0P9NNAQvmuPQ//BrpH5YA9T8l6NA0Rkj1P061uEn2j/U/d4KgXqbX9T+gT4hzVh/2P8gccIgGZ/Y/8elXnbau9j8atz+yZvb2P0OEJ8cWPvc/bFEP3MaF9z+VHvfwds33P77r3gUnFfg/57jGGtdc+D8Qhq4vh6T4PzlTlkQ37Pg/YiB+Wecz+T+K7WVul3v5P7O6TYNHw/k/3Ic1mPcK+j8FVR2tp1L6Py4iBcJXmvo/V+/s1gfi+j+AvNTrtyn7P6mJvABocfs/0lakFRi5+z/7I4wqyAD8PyTxcz94SPw/TL5bVCiQ/D91i0Np2Nf8P55YK36IH/0/xyUTkzhn/T/w8vqn6K79PxnA4ryY9v0/Qo3K0Ug+/j9rWrLm+IX+P5Qnmvuozf4/vfSBEFkV/z/mwWklCV3/Pw6PUTq5pP8/N1w5T2ns/z+wlBCyDBoAQEV7hLzkPQBA2WH4xrxhAEBtSGzRlIUAQAIv4NtsqQBAlhVU5kTNAEAr/MfwHPEAQL/iO/v0FAFAVMmvBc04AUDoryMQpVwBQH2Wlxp9gAFAEX0LJVWkAUCmY38vLcgBQDpK8zkF7AFAzjBnRN0PAkBjF9tOtTMCQPf9TlmNVwJAjOTCY2V7AkAgyzZuPZ8CQLWxqngVwwJASZgeg+3mAkDefpKNxQoDQHJlBpidLgNAB0x6onVSA0CbMu6sTXYDQC8ZYrclmgNAxP/Vwf29A0BY5knM1eEDQO3MvdatBQRAgbMx4YUpBEAWmqXrXU0EQKqAGfY1cQRAP2eNAA6VBEDTTQEL5rgEQGg0dRW+3ARA/BrpH5YABUCQAV0qbiQFQCXo0DRGSAVAuc5EPx5sBUBOtbhJ9o8FQOKbLFTOswVAd4KgXqbXBUALaRRpfvsFQKBPiHNWHwZANDb8fS5DBkDIHHCIBmcGQF0D5JLeigZA8elXnbauBkCG0MunjtIGQBq3P7Jm9gZAr52zvD4aB0BDhCfHFj4HQNhqm9HuYQdAbFEP3MaFB0ABOIPmnqkHQJUe9/B2zQdAKQVr+07xB0C+694FJxUIQFLSUhD/OAhA57jGGtdcCEB7nzolr4AIQBCGri+HpAhApGwiOl/ICEA5U5ZEN+wIQM05Ck8PEAlAYiB+WeczCUD2BvJjv1cJQIrtZW6XewlAH9TZeG+fCUCzuk2DR8MJQEihwY0f5wlA3Ic1mPcKCkBxbqmizy4KQAVVHa2nUgpAmjuRt392CkAuIgXCV5oKQMMIecwvvgpAV+/s1gfiCkDr1WDh3wULQIC81Ou3KQtAFKNI9o9NC0CpibwAaHELQD1wMAtAlQtA0lakFRi5C0BmPRgg8NwLQPsjjCrIAAxAjwoANaAkDEAk8XM/eEgMQLjX50lQbAxATL5bVCiQDEDhpM9eALQMQHWLQ2nY1wxACnK3c7D7DECeWCt+iB8NQDM/n4hgQw1AxyUTkzhnDUBcDIedEIsNQPDy+qforg1AhdlussDSDUAZwOK8mPYNQK2mVsdwGg5AQo3K0Ug+DkDWcz7cIGIOQGtasub4hQ5A/0Am8dCpDkCUJ5r7qM0OQCgODgaB8Q5AvfSBEFkVD0BR2/UaMTkPQObBaSUJXQ9AeqjdL+GAD0AOj1E6uaQPQKN1xUSRyA9AN1w5T2nsD0BmodasIAgQQLCUELIMGhBA+odKt/grEEBFe4S85D0QQI9uvsHQTxBA2WH4xrxhEEAjVTLMqHMQQG1IbNGUhRBAuDum1oCXEEACL+DbbKkQQEwiGuFYuxBAlhVU5kTNEEDhCI7rMN8QQCv8x/Ac8RBAde8B9ggDEUC/4jv79BQRQArWdQDhJhFAVMmvBc04EUCevOkKuUoRQOivIxClXBFAMqNdFZFuEUB9lpcafYARQMeJ0R9pkhFAEX0LJVWkEUBbcEUqQbYRQKZjfy8tyBFA8Fa5NBnaEUA6SvM5BewRQIQ9LT/x/RFAzjBnRN0PEkAZJKFJySESQGMX2061MxJArQoVVKFFEkD3/U5ZjVcSQELxiF55aRJAjOTCY2V7EkDW1/xoUY0SQCDLNm49nxJAar5wcymxEkC1sap4FcMSQP+k5H0B1RJASZgeg+3mEkCTi1iI2fgSQN5+ko3FChNAKHLMkrEcE0ByZQaYnS4TQLxYQJ2JQBNAB0x6onVSE0BRP7SnYWQTQJsy7qxNdhNA5SUosjmIE0AvGWK3JZoTQHoMnLwRrBNAxP/Vwf29E0AO8w/H6c8TQFjmSczV4RNAo9mD0cHzE0DtzL3WrQUUQDfA99uZFxRAgbMx4YUpFEDLpmvmcTsUQBaapetdTRRAYI3f8ElfFECqgBn2NXEUQPRzU/shgxRAP2eNAA6VFECJWscF+qYUQNNNAQvmuBRAHUE7ENLKFEBoNHUVvtwUQLInrxqq7hRA/BrpH5YAFUBGDiMlghIVQJABXSpuJBVA2/SWL1o2FUAl6NA0RkgVQG/bCjoyWhVAuc5EPx5sFUAEwn5ECn4VQE61uEn2jxVAmKjyTuKhFUDimyxUzrMVQCyPZlm6xRVAd4KgXqbXFUDBddpjkukVQAtpFGl++xVAVVxObmoNFkCgT4hzVh8WQOpCwnhCMRZANDb8fS5DFkB+KTaDGlUWQMgccIgGZxZAExCqjfJ4FkBdA+SS3ooWQKf2HZjKnBZA8elXnbauFkA83ZGiosAWQIbQy6eO0hZA0MMFrXrkFkAatz+yZvYWQGWqebdSCBdAr52zvD4aF0D5kO3BKiwXQEOEJ8cWPhdAjXdhzAJQF0DYapvR7mEXQCJe1dbacxdAbFEP3MaFF0C2REnhspcXQAE4g+aeqRdASyu964q7F0CVHvfwds0XQN8RMfZi3xdAKQVr+07xF0B0+KQAOwMYQL7r3gUnFRhACN8YCxMnGEBS0lIQ/zgYQJ3FjBXrShhA57jGGtdcGEAxrAAgw24YQHufOiWvgBhAxpJ0KpuSGEAQhq4vh6QYQFp56DRzthhApGwiOl/IGEDuX1w/S9oYQDlTlkQ37BhAg0bQSSP+GEDNOQpPDxAZQBgtRFT7IRlA",
          "dtype": "f8"
         },
         "y": {
          "bdata": "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",
          "dtype": "f8"
         }
        },
        {
         "mode": "lines",
         "name": "Blade 3",
         "type": "scatter",
         "x": {
          "bdata": "AAAAAAAAAAA6SvM5BeyRPzpK8zkF7KE/V+/s1gfiqj86SvM5BeyxP8gccIgGZ7Y/V+/s1gfiuj/mwWklCV2/PzpK8zkF7ME/gbMx4YUpxD/IHHCIBmfGPxCGri+HpMg/V+/s1gfiyj+eWCt+iB/NP+bBaSUJXc8/lhVU5kTN0D86SvM5BezRP95+ko3FCtM/gbMx4YUp1D8l6NA0RkjVP8gccIgGZ9Y/bFEP3MaF1z8Qhq4vh6TYP7O6TYNHw9k/V+/s1gfi2j/7I4wqyADcP55YK36IH90/Qo3K0Ug+3j/mwWklCV3fP0V7hLzkPeA/lhVU5kTN4D/oryMQpVzhPzpK8zkF7OE/jOTCY2V74j/efpKNxQrjPy8ZYrclmuM/gbMx4YUp5D/TTQEL5rjkPyXo0DRGSOU/d4KgXqbX5T/IHHCIBmfmPxq3P7Jm9uY/bFEP3MaF5z++694FJxXoPxCGri+HpOg/YiB+Wecz6T+zuk2DR8PpPwVVHa2nUuo/V+/s1gfi6j+pibwAaHHrP/sjjCrIAOw/TL5bVCiQ7D+eWCt+iB/tP/Dy+qforu0/Qo3K0Ug+7j+UJ5r7qM3uP+bBaSUJXe8/N1w5T2ns7z9Fe4S85D3wP21IbNGUhfA/lhVU5kTN8D+/4jv79BTxP+ivIxClXPE/EX0LJVWk8T86SvM5BezxP2MX2061M/I/jOTCY2V78j+1sap4FcPyP95+ko3FCvM/B0x6onVS8z8vGWK3JZrzP1jmSczV4fM/gbMx4YUp9D+qgBn2NXH0P9NNAQvmuPQ//BrpH5YA9T8l6NA0Rkj1P061uEn2j/U/d4KgXqbX9T+gT4hzVh/2P8gccIgGZ/Y/8elXnbau9j8atz+yZvb2P0OEJ8cWPvc/bFEP3MaF9z+VHvfwds33P77r3gUnFfg/57jGGtdc+D8Qhq4vh6T4PzlTlkQ37Pg/YiB+Wecz+T+K7WVul3v5P7O6TYNHw/k/3Ic1mPcK+j8FVR2tp1L6Py4iBcJXmvo/V+/s1gfi+j+AvNTrtyn7P6mJvABocfs/0lakFRi5+z/7I4wqyAD8PyTxcz94SPw/TL5bVCiQ/D91i0Np2Nf8P55YK36IH/0/xyUTkzhn/T/w8vqn6K79PxnA4ryY9v0/Qo3K0Ug+/j9rWrLm+IX+P5Qnmvuozf4/vfSBEFkV/z/mwWklCV3/Pw6PUTq5pP8/N1w5T2ns/z+wlBCyDBoAQEV7hLzkPQBA2WH4xrxhAEBtSGzRlIUAQAIv4NtsqQBAlhVU5kTNAEAr/MfwHPEAQL/iO/v0FAFAVMmvBc04AUDoryMQpVwBQH2Wlxp9gAFAEX0LJVWkAUCmY38vLcgBQDpK8zkF7AFAzjBnRN0PAkBjF9tOtTMCQPf9TlmNVwJAjOTCY2V7AkAgyzZuPZ8CQLWxqngVwwJASZgeg+3mAkDefpKNxQoDQHJlBpidLgNAB0x6onVSA0CbMu6sTXYDQC8ZYrclmgNAxP/Vwf29A0BY5knM1eEDQO3MvdatBQRAgbMx4YUpBEAWmqXrXU0EQKqAGfY1cQRAP2eNAA6VBEDTTQEL5rgEQGg0dRW+3ARA/BrpH5YABUCQAV0qbiQFQCXo0DRGSAVAuc5EPx5sBUBOtbhJ9o8FQOKbLFTOswVAd4KgXqbXBUALaRRpfvsFQKBPiHNWHwZANDb8fS5DBkDIHHCIBmcGQF0D5JLeigZA8elXnbauBkCG0MunjtIGQBq3P7Jm9gZAr52zvD4aB0BDhCfHFj4HQNhqm9HuYQdAbFEP3MaFB0ABOIPmnqkHQJUe9/B2zQdAKQVr+07xB0C+694FJxUIQFLSUhD/OAhA57jGGtdcCEB7nzolr4AIQBCGri+HpAhApGwiOl/ICEA5U5ZEN+wIQM05Ck8PEAlAYiB+WeczCUD2BvJjv1cJQIrtZW6XewlAH9TZeG+fCUCzuk2DR8MJQEihwY0f5wlA3Ic1mPcKCkBxbqmizy4KQAVVHa2nUgpAmjuRt392CkAuIgXCV5oKQMMIecwvvgpAV+/s1gfiCkDr1WDh3wULQIC81Ou3KQtAFKNI9o9NC0CpibwAaHELQD1wMAtAlQtA0lakFRi5C0BmPRgg8NwLQPsjjCrIAAxAjwoANaAkDEAk8XM/eEgMQLjX50lQbAxATL5bVCiQDEDhpM9eALQMQHWLQ2nY1wxACnK3c7D7DECeWCt+iB8NQDM/n4hgQw1AxyUTkzhnDUBcDIedEIsNQPDy+qforg1AhdlussDSDUAZwOK8mPYNQK2mVsdwGg5AQo3K0Ug+DkDWcz7cIGIOQGtasub4hQ5A/0Am8dCpDkCUJ5r7qM0OQCgODgaB8Q5AvfSBEFkVD0BR2/UaMTkPQObBaSUJXQ9AeqjdL+GAD0AOj1E6uaQPQKN1xUSRyA9AN1w5T2nsD0BmodasIAgQQLCUELIMGhBA+odKt/grEEBFe4S85D0QQI9uvsHQTxBA2WH4xrxhEEAjVTLMqHMQQG1IbNGUhRBAuDum1oCXEEACL+DbbKkQQEwiGuFYuxBAlhVU5kTNEEDhCI7rMN8QQCv8x/Ac8RBAde8B9ggDEUC/4jv79BQRQArWdQDhJhFAVMmvBc04EUCevOkKuUoRQOivIxClXBFAMqNdFZFuEUB9lpcafYARQMeJ0R9pkhFAEX0LJVWkEUBbcEUqQbYRQKZjfy8tyBFA8Fa5NBnaEUA6SvM5BewRQIQ9LT/x/RFAzjBnRN0PEkAZJKFJySESQGMX2061MxJArQoVVKFFEkD3/U5ZjVcSQELxiF55aRJAjOTCY2V7EkDW1/xoUY0SQCDLNm49nxJAar5wcymxEkC1sap4FcMSQP+k5H0B1RJASZgeg+3mEkCTi1iI2fgSQN5+ko3FChNAKHLMkrEcE0ByZQaYnS4TQLxYQJ2JQBNAB0x6onVSE0BRP7SnYWQTQJsy7qxNdhNA5SUosjmIE0AvGWK3JZoTQHoMnLwRrBNAxP/Vwf29E0AO8w/H6c8TQFjmSczV4RNAo9mD0cHzE0DtzL3WrQUUQDfA99uZFxRAgbMx4YUpFEDLpmvmcTsUQBaapetdTRRAYI3f8ElfFECqgBn2NXEUQPRzU/shgxRAP2eNAA6VFECJWscF+qYUQNNNAQvmuBRAHUE7ENLKFEBoNHUVvtwUQLInrxqq7hRA/BrpH5YAFUBGDiMlghIVQJABXSpuJBVA2/SWL1o2FUAl6NA0RkgVQG/bCjoyWhVAuc5EPx5sFUAEwn5ECn4VQE61uEn2jxVAmKjyTuKhFUDimyxUzrMVQCyPZlm6xRVAd4KgXqbXFUDBddpjkukVQAtpFGl++xVAVVxObmoNFkCgT4hzVh8WQOpCwnhCMRZANDb8fS5DFkB+KTaDGlUWQMgccIgGZxZAExCqjfJ4FkBdA+SS3ooWQKf2HZjKnBZA8elXnbauFkA83ZGiosAWQIbQy6eO0hZA0MMFrXrkFkAatz+yZvYWQGWqebdSCBdAr52zvD4aF0D5kO3BKiwXQEOEJ8cWPhdAjXdhzAJQF0DYapvR7mEXQCJe1dbacxdAbFEP3MaFF0C2REnhspcXQAE4g+aeqRdASyu964q7F0CVHvfwds0XQN8RMfZi3xdAKQVr+07xF0B0+KQAOwMYQL7r3gUnFRhACN8YCxMnGEBS0lIQ/zgYQJ3FjBXrShhA57jGGtdcGEAxrAAgw24YQHufOiWvgBhAxpJ0KpuSGEAQhq4vh6QYQFp56DRzthhApGwiOl/IGEDuX1w/S9oYQDlTlkQ37BhAg0bQSSP+GEDNOQpPDxAZQBgtRFT7IRlA",
          "dtype": "f8"
         },
         "y": {
          "bdata": "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",
          "dtype": "f8"
         }
        },
        {
         "mode": "lines",
         "name": "Total",
         "type": "scatter",
         "x": {
          "bdata": "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",
          "dtype": "f8"
         },
         "y": {
          "bdata": "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",
          "dtype": "f8"
         }
        }
       ],
       "layout": {
        "template": {
         "data": {
          "bar": [
           {
            "error_x": {
             "color": "#2a3f5f"
            },
            "error_y": {
             "color": "#2a3f5f"
            },
            "marker": {
             "line": {
              "color": "#E5ECF6",
              "width": 0.5
             },
             "pattern": {
              "fillmode": "overlay",
              "size": 10,
              "solidity": 0.2
             }
            },
            "type": "bar"
           }
          ],
          "barpolar": [
           {
            "marker": {
             "line": {
              "color": "#E5ECF6",
              "width": 0.5
             },
             "pattern": {
              "fillmode": "overlay",
              "size": 10,
              "solidity": 0.2
             }
            },
            "type": "barpolar"
           }
          ],
          "carpet": [
           {
            "aaxis": {
             "endlinecolor": "#2a3f5f",
             "gridcolor": "white",
             "linecolor": "white",
             "minorgridcolor": "white",
             "startlinecolor": "#2a3f5f"
            },
            "baxis": {
             "endlinecolor": "#2a3f5f",
             "gridcolor": "white",
             "linecolor": "white",
             "minorgridcolor": "white",
             "startlinecolor": "#2a3f5f"
            },
            "type": "carpet"
           }
          ],
          "choropleth": [
           {
            "colorbar": {
             "outlinewidth": 0,
             "ticks": ""
            },
            "type": "choropleth"
           }
          ],
          "contour": [
           {
            "colorbar": {
             "outlinewidth": 0,
             "ticks": ""
            },
            "colorscale": [
             [
              0,
              "#0d0887"
             ],
             [
              0.1111111111111111,
              "#46039f"
             ],
             [
              0.2222222222222222,
              "#7201a8"
             ],
             [
              0.3333333333333333,
              "#9c179e"
             ],
             [
              0.4444444444444444,
              "#bd3786"
             ],
             [
              0.5555555555555556,
              "#d8576b"
             ],
             [
              0.6666666666666666,
              "#ed7953"
             ],
             [
              0.7777777777777778,
              "#fb9f3a"
             ],
             [
              0.8888888888888888,
              "#fdca26"
             ],
             [
              1,
              "#f0f921"
             ]
            ],
            "type": "contour"
           }
          ],
          "contourcarpet": [
           {
            "colorbar": {
             "outlinewidth": 0,
             "ticks": ""
            },
            "type": "contourcarpet"
           }
          ],
          "heatmap": [
           {
            "colorbar": {
             "outlinewidth": 0,
             "ticks": ""
            },
            "colorscale": [
             [
              0,
              "#0d0887"
             ],
             [
              0.1111111111111111,
              "#46039f"
             ],
             [
              0.2222222222222222,
              "#7201a8"
             ],
             [
              0.3333333333333333,
              "#9c179e"
             ],
             [
              0.4444444444444444,
              "#bd3786"
             ],
             [
              0.5555555555555556,
              "#d8576b"
             ],
             [
              0.6666666666666666,
              "#ed7953"
             ],
             [
              0.7777777777777778,
              "#fb9f3a"
             ],
             [
              0.8888888888888888,
              "#fdca26"
             ],
             [
              1,
              "#f0f921"
             ]
            ],
            "type": "heatmap"
           }
          ],
          "histogram": [
           {
            "marker": {
             "pattern": {
              "fillmode": "overlay",
              "size": 10,
              "solidity": 0.2
             }
            },
            "type": "histogram"
           }
          ],
          "histogram2d": [
           {
            "colorbar": {
             "outlinewidth": 0,
             "ticks": ""
            },
            "colorscale": [
             [
              0,
              "#0d0887"
             ],
             [
              0.1111111111111111,
              "#46039f"
             ],
             [
              0.2222222222222222,
              "#7201a8"
             ],
             [
              0.3333333333333333,
              "#9c179e"
             ],
             [
              0.4444444444444444,
              "#bd3786"
             ],
             [
              0.5555555555555556,
              "#d8576b"
             ],
             [
              0.6666666666666666,
              "#ed7953"
             ],
             [
              0.7777777777777778,
              "#fb9f3a"
             ],
             [
              0.8888888888888888,
              "#fdca26"
             ],
             [
              1,
              "#f0f921"
             ]
            ],
            "type": "histogram2d"
           }
          ],
          "histogram2dcontour": [
           {
            "colorbar": {
             "outlinewidth": 0,
             "ticks": ""
            },
            "colorscale": [
             [
              0,
              "#0d0887"
             ],
             [
              0.1111111111111111,
              "#46039f"
             ],
             [
              0.2222222222222222,
              "#7201a8"
             ],
             [
              0.3333333333333333,
              "#9c179e"
             ],
             [
              0.4444444444444444,
              "#bd3786"
             ],
             [
              0.5555555555555556,
              "#d8576b"
             ],
             [
              0.6666666666666666,
              "#ed7953"
             ],
             [
              0.7777777777777778,
              "#fb9f3a"
             ],
             [
              0.8888888888888888,
              "#fdca26"
             ],
             [
              1,
              "#f0f921"
             ]
            ],
            "type": "histogram2dcontour"
           }
          ],
          "mesh3d": [
           {
            "colorbar": {
             "outlinewidth": 0,
             "ticks": ""
            },
            "type": "mesh3d"
           }
          ],
          "parcoords": [
           {
            "line": {
             "colorbar": {
              "outlinewidth": 0,
              "ticks": ""
             }
            },
            "type": "parcoords"
           }
          ],
          "pie": [
           {
            "automargin": true,
            "type": "pie"
           }
          ],
          "scatter": [
           {
            "fillpattern": {
             "fillmode": "overlay",
             "size": 10,
             "solidity": 0.2
            },
            "type": "scatter"
           }
          ],
          "scatter3d": [
           {
            "line": {
             "colorbar": {
              "outlinewidth": 0,
              "ticks": ""
             }
            },
            "marker": {
             "colorbar": {
              "outlinewidth": 0,
              "ticks": ""
             }
            },
            "type": "scatter3d"
           }
          ],
          "scattercarpet": [
           {
            "marker": {
             "colorbar": {
              "outlinewidth": 0,
              "ticks": ""
             }
            },
            "type": "scattercarpet"
           }
          ],
          "scattergeo": [
           {
            "marker": {
             "colorbar": {
              "outlinewidth": 0,
              "ticks": ""
             }
            },
            "type": "scattergeo"
           }
          ],
          "scattergl": [
           {
            "marker": {
             "colorbar": {
              "outlinewidth": 0,
              "ticks": ""
             }
            },
            "type": "scattergl"
           }
          ],
          "scattermap": [
           {
            "marker": {
             "colorbar": {
              "outlinewidth": 0,
              "ticks": ""
             }
            },
            "type": "scattermap"
           }
          ],
          "scattermapbox": [
           {
            "marker": {
             "colorbar": {
              "outlinewidth": 0,
              "ticks": ""
             }
            },
            "type": "scattermapbox"
           }
          ],
          "scatterpolar": [
           {
            "marker": {
             "colorbar": {
              "outlinewidth": 0,
              "ticks": ""
             }
            },
            "type": "scatterpolar"
           }
          ],
          "scatterpolargl": [
           {
            "marker": {
             "colorbar": {
              "outlinewidth": 0,
              "ticks": ""
             }
            },
            "type": "scatterpolargl"
           }
          ],
          "scatterternary": [
           {
            "marker": {
             "colorbar": {
              "outlinewidth": 0,
              "ticks": ""
             }
            },
            "type": "scatterternary"
           }
          ],
          "surface": [
           {
            "colorbar": {
             "outlinewidth": 0,
             "ticks": ""
            },
            "colorscale": [
             [
              0,
              "#0d0887"
             ],
             [
              0.1111111111111111,
              "#46039f"
             ],
             [
              0.2222222222222222,
              "#7201a8"
             ],
             [
              0.3333333333333333,
              "#9c179e"
             ],
             [
              0.4444444444444444,
              "#bd3786"
             ],
             [
              0.5555555555555556,
              "#d8576b"
             ],
             [
              0.6666666666666666,
              "#ed7953"
             ],
             [
              0.7777777777777778,
              "#fb9f3a"
             ],
             [
              0.8888888888888888,
              "#fdca26"
             ],
             [
              1,
              "#f0f921"
             ]
            ],
            "type": "surface"
           }
          ],
          "table": [
           {
            "cells": {
             "fill": {
              "color": "#EBF0F8"
             },
             "line": {
              "color": "white"
             }
            },
            "header": {
             "fill": {
              "color": "#C8D4E3"
             },
             "line": {
              "color": "white"
             }
            },
            "type": "table"
           }
          ]
         },
         "layout": {
          "annotationdefaults": {
           "arrowcolor": "#2a3f5f",
           "arrowhead": 0,
           "arrowwidth": 1
          },
          "autotypenumbers": "strict",
          "coloraxis": {
           "colorbar": {
            "outlinewidth": 0,
            "ticks": ""
           }
          },
          "colorscale": {
           "diverging": [
            [
             0,
             "#8e0152"
            ],
            [
             0.1,
             "#c51b7d"
            ],
            [
             0.2,
             "#de77ae"
            ],
            [
             0.3,
             "#f1b6da"
            ],
            [
             0.4,
             "#fde0ef"
            ],
            [
             0.5,
             "#f7f7f7"
            ],
            [
             0.6,
             "#e6f5d0"
            ],
            [
             0.7,
             "#b8e186"
            ],
            [
             0.8,
             "#7fbc41"
            ],
            [
             0.9,
             "#4d9221"
            ],
            [
             1,
             "#276419"
            ]
           ],
           "sequential": [
            [
             0,
             "#0d0887"
            ],
            [
             0.1111111111111111,
             "#46039f"
            ],
            [
             0.2222222222222222,
             "#7201a8"
            ],
            [
             0.3333333333333333,
             "#9c179e"
            ],
            [
             0.4444444444444444,
             "#bd3786"
            ],
            [
             0.5555555555555556,
             "#d8576b"
            ],
            [
             0.6666666666666666,
             "#ed7953"
            ],
            [
             0.7777777777777778,
             "#fb9f3a"
            ],
            [
             0.8888888888888888,
             "#fdca26"
            ],
            [
             1,
             "#f0f921"
            ]
           ],
           "sequentialminus": [
            [
             0,
             "#0d0887"
            ],
            [
             0.1111111111111111,
             "#46039f"
            ],
            [
             0.2222222222222222,
             "#7201a8"
            ],
            [
             0.3333333333333333,
             "#9c179e"
            ],
            [
             0.4444444444444444,
             "#bd3786"
            ],
            [
             0.5555555555555556,
             "#d8576b"
            ],
            [
             0.6666666666666666,
             "#ed7953"
            ],
            [
             0.7777777777777778,
             "#fb9f3a"
            ],
            [
             0.8888888888888888,
             "#fdca26"
            ],
            [
             1,
             "#f0f921"
            ]
           ]
          },
          "colorway": [
           "#636efa",
           "#EF553B",
           "#00cc96",
           "#ab63fa",
           "#FFA15A",
           "#19d3f3",
           "#FF6692",
           "#B6E880",
           "#FF97FF",
           "#FECB52"
          ],
          "font": {
           "color": "#2a3f5f"
          },
          "geo": {
           "bgcolor": "white",
           "lakecolor": "white",
           "landcolor": "#E5ECF6",
           "showlakes": true,
           "showland": true,
           "subunitcolor": "white"
          },
          "hoverlabel": {
           "align": "left"
          },
          "hovermode": "closest",
          "mapbox": {
           "style": "light"
          },
          "paper_bgcolor": "white",
          "plot_bgcolor": "#E5ECF6",
          "polar": {
           "angularaxis": {
            "gridcolor": "white",
            "linecolor": "white",
            "ticks": ""
           },
           "bgcolor": "#E5ECF6",
           "radialaxis": {
            "gridcolor": "white",
            "linecolor": "white",
            "ticks": ""
           }
          },
          "scene": {
           "xaxis": {
            "backgroundcolor": "#E5ECF6",
            "gridcolor": "white",
            "gridwidth": 2,
            "linecolor": "white",
            "showbackground": true,
            "ticks": "",
            "zerolinecolor": "white"
           },
           "yaxis": {
            "backgroundcolor": "#E5ECF6",
            "gridcolor": "white",
            "gridwidth": 2,
            "linecolor": "white",
            "showbackground": true,
            "ticks": "",
            "zerolinecolor": "white"
           },
           "zaxis": {
            "backgroundcolor": "#E5ECF6",
            "gridcolor": "white",
            "gridwidth": 2,
            "linecolor": "white",
            "showbackground": true,
            "ticks": "",
            "zerolinecolor": "white"
           }
          },
          "shapedefaults": {
           "line": {
            "color": "#2a3f5f"
           }
          },
          "ternary": {
           "aaxis": {
            "gridcolor": "white",
            "linecolor": "white",
            "ticks": ""
           },
           "baxis": {
            "gridcolor": "white",
            "linecolor": "white",
            "ticks": ""
           },
           "bgcolor": "#E5ECF6",
           "caxis": {
            "gridcolor": "white",
            "linecolor": "white",
            "ticks": ""
           }
          },
          "title": {
           "x": 0.05
          },
          "xaxis": {
           "automargin": true,
           "gridcolor": "white",
           "linecolor": "white",
           "ticks": "",
           "title": {
            "standoff": 15
           },
           "zerolinecolor": "white",
           "zerolinewidth": 2
          },
          "yaxis": {
           "automargin": true,
           "gridcolor": "white",
           "linecolor": "white",
           "ticks": "",
           "title": {
            "standoff": 15
           },
           "zerolinecolor": "white",
           "zerolinewidth": 2
          }
         }
        },
        "title": {
         "text": "Non-rotating CL for 3 Blades"
        }
       }
      }
     },
     "metadata": {},
     "output_type": "display_data"
    },
    {
     "data": {
      "application/vnd.plotly.v1+json": {
       "config": {
        "plotlyServerURL": "https://plot.ly"
       },
       "data": [
        {
         "mode": "lines",
         "name": "Total",
         "type": "scatter",
         "x": {
          "bdata": "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",
          "dtype": "f8"
         },
         "y": {
          "bdata": "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",
          "dtype": "f8"
         }
        }
       ],
       "layout": {
        "template": {
         "data": {
          "bar": [
           {
            "error_x": {
             "color": "#2a3f5f"
            },
            "error_y": {
             "color": "#2a3f5f"
            },
            "marker": {
             "line": {
              "color": "#E5ECF6",
              "width": 0.5
             },
             "pattern": {
              "fillmode": "overlay",
              "size": 10,
              "solidity": 0.2
             }
            },
            "type": "bar"
           }
          ],
          "barpolar": [
           {
            "marker": {
             "line": {
              "color": "#E5ECF6",
              "width": 0.5
             },
             "pattern": {
              "fillmode": "overlay",
              "size": 10,
              "solidity": 0.2
             }
            },
            "type": "barpolar"
           }
          ],
          "carpet": [
           {
            "aaxis": {
             "endlinecolor": "#2a3f5f",
             "gridcolor": "white",
             "linecolor": "white",
             "minorgridcolor": "white",
             "startlinecolor": "#2a3f5f"
            },
            "baxis": {
             "endlinecolor": "#2a3f5f",
             "gridcolor": "white",
             "linecolor": "white",
             "minorgridcolor": "white",
             "startlinecolor": "#2a3f5f"
            },
            "type": "carpet"
           }
          ],
          "choropleth": [
           {
            "colorbar": {
             "outlinewidth": 0,
             "ticks": ""
            },
            "type": "choropleth"
           }
          ],
          "contour": [
           {
            "colorbar": {
             "outlinewidth": 0,
             "ticks": ""
            },
            "colorscale": [
             [
              0,
              "#0d0887"
             ],
             [
              0.1111111111111111,
              "#46039f"
             ],
             [
              0.2222222222222222,
              "#7201a8"
             ],
             [
              0.3333333333333333,
              "#9c179e"
             ],
             [
              0.4444444444444444,
              "#bd3786"
             ],
             [
              0.5555555555555556,
              "#d8576b"
             ],
             [
              0.6666666666666666,
              "#ed7953"
             ],
             [
              0.7777777777777778,
              "#fb9f3a"
             ],
             [
              0.8888888888888888,
              "#fdca26"
             ],
             [
              1,
              "#f0f921"
             ]
            ],
            "type": "contour"
           }
          ],
          "contourcarpet": [
           {
            "colorbar": {
             "outlinewidth": 0,
             "ticks": ""
            },
            "type": "contourcarpet"
           }
          ],
          "heatmap": [
           {
            "colorbar": {
             "outlinewidth": 0,
             "ticks": ""
            },
            "colorscale": [
             [
              0,
              "#0d0887"
             ],
             [
              0.1111111111111111,
              "#46039f"
             ],
             [
              0.2222222222222222,
              "#7201a8"
             ],
             [
              0.3333333333333333,
              "#9c179e"
             ],
             [
              0.4444444444444444,
              "#bd3786"
             ],
             [
              0.5555555555555556,
              "#d8576b"
             ],
             [
              0.6666666666666666,
              "#ed7953"
             ],
             [
              0.7777777777777778,
              "#fb9f3a"
             ],
             [
              0.8888888888888888,
              "#fdca26"
             ],
             [
              1,
              "#f0f921"
             ]
            ],
            "type": "heatmap"
           }
          ],
          "histogram": [
           {
            "marker": {
             "pattern": {
              "fillmode": "overlay",
              "size": 10,
              "solidity": 0.2
             }
            },
            "type": "histogram"
           }
          ],
          "histogram2d": [
           {
            "colorbar": {
             "outlinewidth": 0,
             "ticks": ""
            },
            "colorscale": [
             [
              0,
              "#0d0887"
             ],
             [
              0.1111111111111111,
              "#46039f"
             ],
             [
              0.2222222222222222,
              "#7201a8"
             ],
             [
              0.3333333333333333,
              "#9c179e"
             ],
             [
              0.4444444444444444,
              "#bd3786"
             ],
             [
              0.5555555555555556,
              "#d8576b"
             ],
             [
              0.6666666666666666,
              "#ed7953"
             ],
             [
              0.7777777777777778,
              "#fb9f3a"
             ],
             [
              0.8888888888888888,
              "#fdca26"
             ],
             [
              1,
              "#f0f921"
             ]
            ],
            "type": "histogram2d"
           }
          ],
          "histogram2dcontour": [
           {
            "colorbar": {
             "outlinewidth": 0,
             "ticks": ""
            },
            "colorscale": [
             [
              0,
              "#0d0887"
             ],
             [
              0.1111111111111111,
              "#46039f"
             ],
             [
              0.2222222222222222,
              "#7201a8"
             ],
             [
              0.3333333333333333,
              "#9c179e"
             ],
             [
              0.4444444444444444,
              "#bd3786"
             ],
             [
              0.5555555555555556,
              "#d8576b"
             ],
             [
              0.6666666666666666,
              "#ed7953"
             ],
             [
              0.7777777777777778,
              "#fb9f3a"
             ],
             [
              0.8888888888888888,
              "#fdca26"
             ],
             [
              1,
              "#f0f921"
             ]
            ],
            "type": "histogram2dcontour"
           }
          ],
          "mesh3d": [
           {
            "colorbar": {
             "outlinewidth": 0,
             "ticks": ""
            },
            "type": "mesh3d"
           }
          ],
          "parcoords": [
           {
            "line": {
             "colorbar": {
              "outlinewidth": 0,
              "ticks": ""
             }
            },
            "type": "parcoords"
           }
          ],
          "pie": [
           {
            "automargin": true,
            "type": "pie"
           }
          ],
          "scatter": [
           {
            "fillpattern": {
             "fillmode": "overlay",
             "size": 10,
             "solidity": 0.2
            },
            "type": "scatter"
           }
          ],
          "scatter3d": [
           {
            "line": {
             "colorbar": {
              "outlinewidth": 0,
              "ticks": ""
             }
            },
            "marker": {
             "colorbar": {
              "outlinewidth": 0,
              "ticks": ""
             }
            },
            "type": "scatter3d"
           }
          ],
          "scattercarpet": [
           {
            "marker": {
             "colorbar": {
              "outlinewidth": 0,
              "ticks": ""
             }
            },
            "type": "scattercarpet"
           }
          ],
          "scattergeo": [
           {
            "marker": {
             "colorbar": {
              "outlinewidth": 0,
              "ticks": ""
             }
            },
            "type": "scattergeo"
           }
          ],
          "scattergl": [
           {
            "marker": {
             "colorbar": {
              "outlinewidth": 0,
              "ticks": ""
             }
            },
            "type": "scattergl"
           }
          ],
          "scattermap": [
           {
            "marker": {
             "colorbar": {
              "outlinewidth": 0,
              "ticks": ""
             }
            },
            "type": "scattermap"
           }
          ],
          "scattermapbox": [
           {
            "marker": {
             "colorbar": {
              "outlinewidth": 0,
              "ticks": ""
             }
            },
            "type": "scattermapbox"
           }
          ],
          "scatterpolar": [
           {
            "marker": {
             "colorbar": {
              "outlinewidth": 0,
              "ticks": ""
             }
            },
            "type": "scatterpolar"
           }
          ],
          "scatterpolargl": [
           {
            "marker": {
             "colorbar": {
              "outlinewidth": 0,
              "ticks": ""
             }
            },
            "type": "scatterpolargl"
           }
          ],
          "scatterternary": [
           {
            "marker": {
             "colorbar": {
              "outlinewidth": 0,
              "ticks": ""
             }
            },
            "type": "scatterternary"
           }
          ],
          "surface": [
           {
            "colorbar": {
             "outlinewidth": 0,
             "ticks": ""
            },
            "colorscale": [
             [
              0,
              "#0d0887"
             ],
             [
              0.1111111111111111,
              "#46039f"
             ],
             [
              0.2222222222222222,
              "#7201a8"
             ],
             [
              0.3333333333333333,
              "#9c179e"
             ],
             [
              0.4444444444444444,
              "#bd3786"
             ],
             [
              0.5555555555555556,
              "#d8576b"
             ],
             [
              0.6666666666666666,
              "#ed7953"
             ],
             [
              0.7777777777777778,
              "#fb9f3a"
             ],
             [
              0.8888888888888888,
              "#fdca26"
             ],
             [
              1,
              "#f0f921"
             ]
            ],
            "type": "surface"
           }
          ],
          "table": [
           {
            "cells": {
             "fill": {
              "color": "#EBF0F8"
             },
             "line": {
              "color": "white"
             }
            },
            "header": {
             "fill": {
              "color": "#C8D4E3"
             },
             "line": {
              "color": "white"
             }
            },
            "type": "table"
           }
          ]
         },
         "layout": {
          "annotationdefaults": {
           "arrowcolor": "#2a3f5f",
           "arrowhead": 0,
           "arrowwidth": 1
          },
          "autotypenumbers": "strict",
          "coloraxis": {
           "colorbar": {
            "outlinewidth": 0,
            "ticks": ""
           }
          },
          "colorscale": {
           "diverging": [
            [
             0,
             "#8e0152"
            ],
            [
             0.1,
             "#c51b7d"
            ],
            [
             0.2,
             "#de77ae"
            ],
            [
             0.3,
             "#f1b6da"
            ],
            [
             0.4,
             "#fde0ef"
            ],
            [
             0.5,
             "#f7f7f7"
            ],
            [
             0.6,
             "#e6f5d0"
            ],
            [
             0.7,
             "#b8e186"
            ],
            [
             0.8,
             "#7fbc41"
            ],
            [
             0.9,
             "#4d9221"
            ],
            [
             1,
             "#276419"
            ]
           ],
           "sequential": [
            [
             0,
             "#0d0887"
            ],
            [
             0.1111111111111111,
             "#46039f"
            ],
            [
             0.2222222222222222,
             "#7201a8"
            ],
            [
             0.3333333333333333,
             "#9c179e"
            ],
            [
             0.4444444444444444,
             "#bd3786"
            ],
            [
             0.5555555555555556,
             "#d8576b"
            ],
            [
             0.6666666666666666,
             "#ed7953"
            ],
            [
             0.7777777777777778,
             "#fb9f3a"
            ],
            [
             0.8888888888888888,
             "#fdca26"
            ],
            [
             1,
             "#f0f921"
            ]
           ],
           "sequentialminus": [
            [
             0,
             "#0d0887"
            ],
            [
             0.1111111111111111,
             "#46039f"
            ],
            [
             0.2222222222222222,
             "#7201a8"
            ],
            [
             0.3333333333333333,
             "#9c179e"
            ],
            [
             0.4444444444444444,
             "#bd3786"
            ],
            [
             0.5555555555555556,
             "#d8576b"
            ],
            [
             0.6666666666666666,
             "#ed7953"
            ],
            [
             0.7777777777777778,
             "#fb9f3a"
            ],
            [
             0.8888888888888888,
             "#fdca26"
            ],
            [
             1,
             "#f0f921"
            ]
           ]
          },
          "colorway": [
           "#636efa",
           "#EF553B",
           "#00cc96",
           "#ab63fa",
           "#FFA15A",
           "#19d3f3",
           "#FF6692",
           "#B6E880",
           "#FF97FF",
           "#FECB52"
          ],
          "font": {
           "color": "#2a3f5f"
          },
          "geo": {
           "bgcolor": "white",
           "lakecolor": "white",
           "landcolor": "#E5ECF6",
           "showlakes": true,
           "showland": true,
           "subunitcolor": "white"
          },
          "hoverlabel": {
           "align": "left"
          },
          "hovermode": "closest",
          "mapbox": {
           "style": "light"
          },
          "paper_bgcolor": "white",
          "plot_bgcolor": "#E5ECF6",
          "polar": {
           "angularaxis": {
            "gridcolor": "white",
            "linecolor": "white",
            "ticks": ""
           },
           "bgcolor": "#E5ECF6",
           "radialaxis": {
            "gridcolor": "white",
            "linecolor": "white",
            "ticks": ""
           }
          },
          "scene": {
           "xaxis": {
            "backgroundcolor": "#E5ECF6",
            "gridcolor": "white",
            "gridwidth": 2,
            "linecolor": "white",
            "showbackground": true,
            "ticks": "",
            "zerolinecolor": "white"
           },
           "yaxis": {
            "backgroundcolor": "#E5ECF6",
            "gridcolor": "white",
            "gridwidth": 2,
            "linecolor": "white",
            "showbackground": true,
            "ticks": "",
            "zerolinecolor": "white"
           },
           "zaxis": {
            "backgroundcolor": "#E5ECF6",
            "gridcolor": "white",
            "gridwidth": 2,
            "linecolor": "white",
            "showbackground": true,
            "ticks": "",
            "zerolinecolor": "white"
           }
          },
          "shapedefaults": {
           "line": {
            "color": "#2a3f5f"
           }
          },
          "ternary": {
           "aaxis": {
            "gridcolor": "white",
            "linecolor": "white",
            "ticks": ""
           },
           "baxis": {
            "gridcolor": "white",
            "linecolor": "white",
            "ticks": ""
           },
           "bgcolor": "#E5ECF6",
           "caxis": {
            "gridcolor": "white",
            "linecolor": "white",
            "ticks": ""
           }
          },
          "title": {
           "x": 0.05
          },
          "xaxis": {
           "automargin": true,
           "gridcolor": "white",
           "linecolor": "white",
           "ticks": "",
           "title": {
            "standoff": 15
           },
           "zerolinecolor": "white",
           "zerolinewidth": 2
          },
          "yaxis": {
           "automargin": true,
           "gridcolor": "white",
           "linecolor": "white",
           "ticks": "",
           "title": {
            "standoff": 15
           },
           "zerolinecolor": "white",
           "zerolinewidth": 2
          }
         }
        },
        "title": {
         "text": "Non-rotating CM for 3 Blades"
        }
       }
      }
     },
     "metadata": {},
     "output_type": "display_data"
    },
    {
     "data": {
      "application/vnd.plotly.v1+json": {
       "config": {
        "plotlyServerURL": "https://plot.ly"
       },
       "data": [
        {
         "mode": "lines",
         "name": "Blade 1",
         "type": "scatter",
         "x": {
          "bdata": "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",
          "dtype": "f8"
         },
         "y": {
          "bdata": "AU/oitRCj0Dufaz09UKPQPhEASMXQ49Ap45MEzhDj0DcIvnCWEOPQKzadi95Q49A0tM6VplDj0C5o780uUOPQBqKhcjYQ49AJKMSD/hDj0AzGfMFF0SPQAtWuao1RI9AlDP++lNEj0AYLGH0cUSPQP6JiJSPRI9A8ZYh2axEj0CKyuC/yUSPQF74gUbmRI9Af33IagJFj0BgbX8qHkWPQCe+eYM5RY9AVHSSc1RFj0DUzaz4bkWPQGNstBCJRY9AT3+duaJFj0CJ7GTxu0WPQAp5ELbURY9AhPCuBe1Fj0BjTFjeBEaPQAraLT4cRo9AZmBaIzNGj0CyRBKMSUaPQISuk3ZfRo9AFasm4XRGj0C8Tx3KiUaPQKnb0y+eRo9AzdiwELJGj0D1OyVrxUaPQBeErD3YRo9AxtjMhupGj0DVJxdF/EaPQB5CJ3cNR49AdPejGx5Hj0CtMT8xLkePQN4OtrY9R49ApPrQqkxHj0CYxmMMW0ePQNjBTdpoR49AqM95E3ZHj0Avfd62gkePQEkWfsOOR49AZ7lmOJpHj0CMarIUpUePQFMlh1evR49ABu4WALlHj0DK4Z8NwkePQM5FbH/KR49AjZXSVNJHj0AakDWN2UePQHREBCjgR49A4xy6JOZHj0Bd6d6C60ePQPXoBkLwR49ATdLSYfRHj0AN2+/h90ePQGK+F8L6R49AhcIQAv1Hj0A5va2h/kePQF0XzqD/R49AeM9d//9Hj0BKe1W9/0ePQGFIutr+R49AsPudV/1Hj0Au8B40+0ePQHEUaHD4R49AUOewDPVHj0COcz0J8UePQH1KXmbsR49AsH1wJOdHj0Czl91D4UePQLqTG8XaR49AbNSsqNNHj0CjGSDvy0ePQDl1EJnDR49A5T4lp7pHj0AZBxIasUePQOmIlvKmR49AC5t+MZxHj0DUH6LXkEePQEv05OWER49ATt42XXhHj0DEeZM+a0ePQN8kAotdR49AeOuVQ09Hj0B+cW1pQEePQHrcsv0wR49ALrybASFHj0BR8mh2EEePQGKZZl3/Ro9Aourrt+1Gj0AlI1uH20aPQA5oIc3IRo9A7am2irVGj0BDh53BoUaPQDEuY3ONRo9AVD2foXhGj0DOo/NNY0aPQH+ADHpNRo9AcwCgJzdGj0CJPG5YIEaPQEwWQQ4JRo9ADhTsSvFFj0A7PEwQ2UWPQPfvR2DARY9A9cTOPKdFj0CcXtmnjUWPQHhGaaNzRY9A78OIMVlFj0BSs0pUPkWPQDlcyg0jRY9APkcrYAdFj0AFE5lN60SPQLVIR9jORI9Avi9xArJEj0AVoVnOlESPQMjZSj53RI9ADk2WVFlEj0C3dZQTO0SPQBmnpH0cRI9Acd0slf1Dj0C9jZlc3kOPQBJ1Xda+Q49AfWfxBJ9Dj0BcHtTqfkOPQE4GiopeQ49Apwyd5j1Dj0B7bJwBHUOPQD57HN77Qo9A93S2ftpCj0AcSAjmuEKPQAdhtBaXQo9AEnVhE3VCj0BhTbreUkKPQFiRbXswQo9AvpAt7A1Cj0ChDbAz60GPQO4FrlTIQY9AyHzjUaVBj0CjQw8ugkGPQCrD8uteQY9A7sNRjjtBj0DlNvIXGEGPQL39m4v0QI9ADLMY7NBAj0BacjM8rUCPQA6guH6JQI9AQbF1tmVAj0B48zjmQUCPQFlU0RAeQI9AQSkOOfo/j0Dk9r5h1j+PQN04s42yP49AQym6v44/j0BFiKL6aj+PQMxjOkFHP49ALd9OliM/j0Dv+qv8/z6PQJ9cHHfcPo9A0RZpCLk+j0ArcVmzlT6PQKWwsnpyPo9A6d83YU8+j0Dgl6lpLD6PQHXIxZYJPo9AiIFH6+Y9j0AdvOZpxD2PQMojWBWiPY9AZeBM8H89j0D5X3L9XT2PQAghcj88PY9AHH3xuBo9j0Clc5Fs+TyPQDd17lzYPI9AHi+gjLc8j0BVVzn+ljyPQNx4R7R2PI9AecBSsVY8j0Doyd33NjyPQHNtZYoXPI9AAo5ga/g7j0Cm5z+d2TuPQJrebSK7O49AwU5O/Zw7j0C0Wz4wfzuPQEZBlL1hO49AoCSfp0Q7j0Dk5abwJzuPQGfy65oLO49AdxenqO86j0DJVQkc1DqPQHW1O/e4Oo9AnRpfPJ46j0CuGoztgzqPQFDS0gxqOo9A+7s6nFA6j0A8h8KdNzqPQKnwXxMfOo9Ahpr//gY6j0Ap5oRi7zmPQA/OyT/YOY9AssCemME5j0AffMpuqzmPQErqCcSVOY9AL/4PmoA5j0CzkYXyazmPQFlECc9XOY9AtlovMUQ5j0DFnoEaMTmPQANBf4weOY9AZbqciAw5j0Afr0MQ+ziPQErS0iTqOI9AZ8qdx9k4j0C3Fu35yTiPQID1/by6OI9AI0sCEqw4j0AqiiD6nTiPQCqcc3aQOI9AlMsKiIM4j0BzrukvdziPQBASCG9rOI9Af+dRRmA4j0AjMae2VTiPQB/x28BLOI9AsRi4ZUI4j0CFePelOTiPQACySYIxOI9AcylS+yk4j0BT+acRIziPQFfm1cUcOI9AnVRaGBc4j0DAPacJEjiPQOInIpoNOI9AwB0kygk4j0Cup/mZBjiPQJnF4gkEOI9ABuoSGgI4j0AE9rDKADiPQCI21xsAOI9AYGCTDQA4j0AZk+afADiPQPBUxdIBOI9As5UXpgM4j0BBsLgZBjiPQGZtdy0JOI9AvAcW4Qw4j0B9MEo0ETiPQF0VvSYWOI9AUmcLuBs4j0BmYsXnITiPQHHWbrUoOI9A3jB/IDA4j0Bdh2EoODiPQI+jdMxAOI9Arw8LDEo4j0AnJGvmUziPQCEWz1peOI9ACgdlaGk4j0AHFU8OdTiPQFlso0uBOI9AuFlsH444j0CPXaiImziPQDVASoapOI9ABic5F7g4j0BpqlA6xziPQL3sYO7WOI9AL7IuMuc4j0BweXME+DiPQFCV3WMJOY9APEcQTxs5j0CP2qPELTmPQNDAJcNAOY9AuK4YSVQ5j0AfuvRUaDmPQLR4J+V8OY9AjR8U+JE5j0CCoxOMpzmPQF/adJ+9OY9A1px8MNQ5j0BA6WU96zmPQCgHYsQCOo9AjKuYwxo6j0DsHSg5MzqPQAxeJSNMOo9AeEqcf2U6j0C6x49MfzqPQETo+YeZOo9AERXML7Q6j0DvNu9BzzqPQHDgQ7zqOo9AjniinAY7j0DnZdvgIjuPQJ86t4Y/O49A4eD2i1w7j0D2x1PueTuPQPMRgKuXO49A+sEmwbU7j0AO6+ss1DuPQGbfbOzyO49AW2BA/RE8j0DFzvZcMTyPQOdbGglRPI9A0Dov/3A8j0A30rM8kTyPQMvuIL+xPI9A8vXpg9I8j0D2GH2I8zyPQJqIQ8oUPY9AFamhRjY9j0BmRvf6Vz2PQBTJn+R5PY9AMWvyAJw9j0DEbUJNvj2PQHlO38bgPY9Am/0UawM+j0BdFCw3Jj6PQF0LaihJPo9AcHERPGw+j0CfImJvjz6PQF9/mb+yPo9A+6PyKdY+j0AnoKar+T6PQMWu7EEdP49Axm366UA/j0AuFgShZD+PQDe0PGSIP49Ah1/WMKw/j0B9cwIE0D+PQI3H8drzP49AnufUshdAj0B+TNyIO0CPQEWUOFpfQI9AxboaJINAj0DmUbTjpkCPQAC6N5bKQI9AIVrYOO5Aj0A62MrIEUGPQDtRRUM1QY9ADpF/pVhBj0BrSrPse0GPQJFOHBafQY9AzMT4HsJBj0DNYYkE5UGPQM+eEcQHQo9Ai/DXWipCj0Dm/SXGTEKPQGPWSANvQo9AVyiRD5FCj0DFdlPoskKPQAFP6IrUQo9A",
          "dtype": "f8"
         }
        },
        {
         "mode": "lines",
         "name": "Blade 2",
         "type": "scatter",
         "x": {
          "bdata": "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",
          "dtype": "f8"
         },
         "y": {
          "bdata": "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",
          "dtype": "f8"
         }
        },
        {
         "mode": "lines",
         "name": "Blade 3",
         "type": "scatter",
         "x": {
          "bdata": "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",
          "dtype": "f8"
         },
         "y": {
          "bdata": "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",
          "dtype": "f8"
         }
        },
        {
         "mode": "lines",
         "name": "Blade 4",
         "type": "scatter",
         "x": {
          "bdata": "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",
          "dtype": "f8"
         },
         "y": {
          "bdata": "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",
          "dtype": "f8"
         }
        },
        {
         "mode": "lines",
         "name": "Total",
         "type": "scatter",
         "x": {
          "bdata": "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",
          "dtype": "f8"
         },
         "y": {
          "bdata": "AAAAAABAr0AAAAAAAECvQAAAAAAAQK9AAAAAAABAr0AAAAAAAECvQAAAAAAAQK9A//////8/r0AAAAAAAECvQAAAAAAAQK9AAAAAAABAr0AAAAAAAECvQAAAAAAAQK9AAAAAAABAr0AAAAAAAECvQP//////P69AAAAAAABAr0AAAAAAAECvQP//////P69AAAAAAABAr0AAAAAAAECvQAAAAAAAQK9AAAAAAABAr0AAAAAAAECvQAAAAAAAQK9AAAAAAABAr0AAAAAAAECvQAAAAAAAQK9AAAAAAABAr0AAAAAAAECvQAAAAAAAQK9AAQAAAABAr0AAAAAAAECvQAAAAAAAQK9AAAAAAABAr0AAAAAAAECvQAAAAAAAQK9AAAAAAABAr0AAAAAAAECvQAAAAAAAQK9AAAAAAABAr0AAAAAAAECvQAAAAAAAQK9AAAAAAABAr0AAAAAAAECvQAAAAAAAQK9AAAAAAABAr0AAAAAAAECvQAAAAAAAQK9AAAAAAABAr0AAAAAAAECvQAAAAAAAQK9AAAAAAABAr0AAAAAAAECvQAAAAAAAQK9AAAAAAABAr0AAAAAAAECvQAAAAAAAQK9AAAAAAABAr0D//////z+vQAAAAAAAQK9AAAAAAABAr0AAAAAAAECvQAAAAAAAQK9AAAAAAABAr0AAAAAAAECvQAAAAAAAQK9AAAAAAABAr0AAAAAAAECvQAAAAAAAQK9AAAAAAABAr0AAAAAAAECvQAAAAAAAQK9AAAAAAABAr0AAAAAAAECvQAAAAAAAQK9AAAAAAABAr0D//////z+vQAAAAAAAQK9AAAAAAABAr0AAAAAAAECvQAAAAAAAQK9AAAAAAABAr0AAAAAAAECvQAAAAAAAQK9AAAAAAABAr0AAAAAAAECvQAAAAAAAQK9AAAAAAABAr0AAAAAAAECvQAAAAAAAQK9AAQAAAABAr0AAAAAAAECvQAAAAAAAQK9AAAAAAABAr0AAAAAAAECvQAAAAAAAQK9AAAAAAABAr0AAAAAAAECvQAAAAAAAQK9AAAAAAABAr0AAAAAAAECvQAAAAAAAQK9AAAAAAABAr0AAAAAAAECvQAAAAAAAQK9AAAAAAABAr0AAAAAAAECvQAAAAAAAQK9AAAAAAABAr0AAAAAAAECvQAAAAAAAQK9AAQAAAABAr0AAAAAAAECvQAAAAAAAQK9AAAAAAABAr0AAAAAAAECvQAAAAAAAQK9AAAAAAABAr0AAAAAAAECvQAAAAAAAQK9AAAAAAABAr0AAAAAAAECvQAAAAAAAQK9A//////8/r0AAAAAAAECvQAAAAAAAQK9AAAAAAABAr0AAAAAAAECvQAAAAAAAQK9AAAAAAABAr0AAAAAAAECvQAAAAAAAQK9AAAAAAABAr0AAAAAAAECvQAAAAAAAQK9AAAAAAABAr0AAAAAAAECvQAAAAAAAQK9AAAAAAABAr0AAAAAAAECvQAAAAAAAQK9AAAAAAABAr0AAAAAAAECvQAAAAAAAQK9AAAAAAABAr0AAAAAAAECvQAAAAAAAQK9AAAAAAABAr0AAAAAAAECvQAAAAAAAQK9AAAAAAABAr0AAAAAAAECvQAAAAAAAQK9AAAAAAABAr0AAAAAAAECvQAAAAAAAQK9AAAAAAABAr0AAAAAAAECvQAAAAAAAQK9AAAAAAABAr0AAAAAAAECvQAAAAAAAQK9AAAAAAABAr0AAAAAAAECvQAAAAAAAQK9AAAAAAABAr0AAAAAAAECvQAAAAAAAQK9AAAAAAABAr0AAAAAAAECvQAAAAAAAQK9AAAAAAABAr0AAAAAAAECvQAAAAAAAQK9AAAAAAABAr0AAAAAAAECvQP//////P69AAAAAAABAr0AAAAAAAECvQAAAAAAAQK9AAAAAAABAr0AAAAAAAECvQAAAAAAAQK9AAAAAAABAr0AAAAAAAECvQAAAAAAAQK9AAAAAAABAr0AAAAAAAECvQAAAAAAAQK9AAAAAAABAr0AAAAAAAECvQAAAAAAAQK9AAAAAAABAr0AAAAAAAECvQAAAAAAAQK9AAAAAAABAr0AAAAAAAECvQAAAAAAAQK9AAAAAAABAr0AAAAAAAECvQAAAAAAAQK9AAAAAAABAr0AAAAAAAECvQAAAAAAAQK9AAAAAAABAr0AAAAAAAECvQAAAAAAAQK9AAAAAAABAr0AAAAAAAECvQAAAAAAAQK9A//////8/r0AAAAAAAECvQAAAAAAAQK9AAAAAAABAr0AAAAAAAECvQAAAAAAAQK9AAAAAAABAr0AAAAAAAECvQAAAAAAAQK9AAAAAAABAr0AAAAAAAECvQAAAAAAAQK9AAAAAAABAr0AAAAAAAECvQAAAAAAAQK9AAAAAAABAr0AAAAAAAECvQAAAAAAAQK9AAAAAAABAr0AAAAAAAECvQAAAAAAAQK9AAAAAAABAr0AAAAAAAECvQAAAAAAAQK9AAAAAAABAr0AAAAAAAECvQAAAAAAAQK9AAAAAAABAr0AAAAAAAECvQAAAAAAAQK9AAAAAAABAr0AAAAAAAECvQAAAAAAAQK9AAAAAAABAr0D//////z+vQAAAAAAAQK9AAQAAAABAr0AAAAAAAECvQAEAAAAAQK9AAAAAAABAr0AAAAAAAECvQAAAAAAAQK9AAAAAAABAr0AAAAAAAECvQAAAAAAAQK9AAAAAAABAr0AAAAAAAECvQAAAAAAAQK9AAAAAAABAr0AAAAAAAECvQAAAAAAAQK9AAAAAAABAr0AAAAAAAECvQAAAAAAAQK9AAAAAAABAr0AAAAAAAECvQAAAAAAAQK9AAAAAAABAr0AAAAAAAECvQAAAAAAAQK9AAAAAAABAr0AAAAAAAECvQAAAAAAAQK9A//////8/r0AAAAAAAECvQAAAAAAAQK9AAAAAAABAr0AAAAAAAECvQAAAAAAAQK9AAAAAAABAr0AAAAAAAECvQAAAAAAAQK9AAAAAAABAr0AAAAAAAECvQAAAAAAAQK9AAAAAAABAr0AAAAAAAECvQAAAAAAAQK9AAAAAAABAr0AAAAAAAECvQAAAAAAAQK9AAAAAAABAr0AAAAAAAECvQAAAAAAAQK9AAAAAAABAr0D//////z+vQAAAAAAAQK9AAAAAAABAr0AAAAAAAECvQAAAAAAAQK9AAAAAAABAr0AAAAAAAECvQAAAAAAAQK9AAAAAAABAr0AAAAAAAECvQAAAAAAAQK9AAAAAAABAr0AAAAAAAECvQAEAAAAAQK9AAAAAAABAr0AAAAAAAECvQAAAAAAAQK9AAAAAAABAr0AAAAAAAECvQAAAAAAAQK9AAAAAAABAr0AAAAAAAECvQAAAAAAAQK9AAAAAAABAr0D//////z+vQAAAAAAAQK9AAAAAAABAr0AAAAAAAECvQAAAAAAAQK9AAAAAAABAr0AAAAAAAECvQAAAAAAAQK9AAAAAAABAr0AAAAAAAECvQAAAAAAAQK9AAAAAAABAr0AAAAAAAECvQAAAAAAAQK9AAQAAAABAr0AAAAAAAECvQAAAAAAAQK9AAAAAAABAr0AAAAAAAECvQAAAAAAAQK9AAAAAAABAr0D//////z+vQAAAAAAAQK9AAAAAAABAr0D//////z+vQAAAAAAAQK9AAAAAAABAr0D//////z+vQAAAAAAAQK9AAAAAAABAr0AAAAAAAECvQAAAAAAAQK9AAAAAAABAr0AAAAAAAECvQAAAAAAAQK9AAAAAAABAr0AAAAAAAECvQAAAAAAAQK9AAAAAAABAr0AAAAAAAECvQAAAAAAAQK9A",
          "dtype": "f8"
         }
        }
       ],
       "layout": {
        "template": {
         "data": {
          "bar": [
           {
            "error_x": {
             "color": "#2a3f5f"
            },
            "error_y": {
             "color": "#2a3f5f"
            },
            "marker": {
             "line": {
              "color": "#E5ECF6",
              "width": 0.5
             },
             "pattern": {
              "fillmode": "overlay",
              "size": 10,
              "solidity": 0.2
             }
            },
            "type": "bar"
           }
          ],
          "barpolar": [
           {
            "marker": {
             "line": {
              "color": "#E5ECF6",
              "width": 0.5
             },
             "pattern": {
              "fillmode": "overlay",
              "size": 10,
              "solidity": 0.2
             }
            },
            "type": "barpolar"
           }
          ],
          "carpet": [
           {
            "aaxis": {
             "endlinecolor": "#2a3f5f",
             "gridcolor": "white",
             "linecolor": "white",
             "minorgridcolor": "white",
             "startlinecolor": "#2a3f5f"
            },
            "baxis": {
             "endlinecolor": "#2a3f5f",
             "gridcolor": "white",
             "linecolor": "white",
             "minorgridcolor": "white",
             "startlinecolor": "#2a3f5f"
            },
            "type": "carpet"
           }
          ],
          "choropleth": [
           {
            "colorbar": {
             "outlinewidth": 0,
             "ticks": ""
            },
            "type": "choropleth"
           }
          ],
          "contour": [
           {
            "colorbar": {
             "outlinewidth": 0,
             "ticks": ""
            },
            "colorscale": [
             [
              0,
              "#0d0887"
             ],
             [
              0.1111111111111111,
              "#46039f"
             ],
             [
              0.2222222222222222,
              "#7201a8"
             ],
             [
              0.3333333333333333,
              "#9c179e"
             ],
             [
              0.4444444444444444,
              "#bd3786"
             ],
             [
              0.5555555555555556,
              "#d8576b"
             ],
             [
              0.6666666666666666,
              "#ed7953"
             ],
             [
              0.7777777777777778,
              "#fb9f3a"
             ],
             [
              0.8888888888888888,
              "#fdca26"
             ],
             [
              1,
              "#f0f921"
             ]
            ],
            "type": "contour"
           }
          ],
          "contourcarpet": [
           {
            "colorbar": {
             "outlinewidth": 0,
             "ticks": ""
            },
            "type": "contourcarpet"
           }
          ],
          "heatmap": [
           {
            "colorbar": {
             "outlinewidth": 0,
             "ticks": ""
            },
            "colorscale": [
             [
              0,
              "#0d0887"
             ],
             [
              0.1111111111111111,
              "#46039f"
             ],
             [
              0.2222222222222222,
              "#7201a8"
             ],
             [
              0.3333333333333333,
              "#9c179e"
             ],
             [
              0.4444444444444444,
              "#bd3786"
             ],
             [
              0.5555555555555556,
              "#d8576b"
             ],
             [
              0.6666666666666666,
              "#ed7953"
             ],
             [
              0.7777777777777778,
              "#fb9f3a"
             ],
             [
              0.8888888888888888,
              "#fdca26"
             ],
             [
              1,
              "#f0f921"
             ]
            ],
            "type": "heatmap"
           }
          ],
          "histogram": [
           {
            "marker": {
             "pattern": {
              "fillmode": "overlay",
              "size": 10,
              "solidity": 0.2
             }
            },
            "type": "histogram"
           }
          ],
          "histogram2d": [
           {
            "colorbar": {
             "outlinewidth": 0,
             "ticks": ""
            },
            "colorscale": [
             [
              0,
              "#0d0887"
             ],
             [
              0.1111111111111111,
              "#46039f"
             ],
             [
              0.2222222222222222,
              "#7201a8"
             ],
             [
              0.3333333333333333,
              "#9c179e"
             ],
             [
              0.4444444444444444,
              "#bd3786"
             ],
             [
              0.5555555555555556,
              "#d8576b"
             ],
             [
              0.6666666666666666,
              "#ed7953"
             ],
             [
              0.7777777777777778,
              "#fb9f3a"
             ],
             [
              0.8888888888888888,
              "#fdca26"
             ],
             [
              1,
              "#f0f921"
             ]
            ],
            "type": "histogram2d"
           }
          ],
          "histogram2dcontour": [
           {
            "colorbar": {
             "outlinewidth": 0,
             "ticks": ""
            },
            "colorscale": [
             [
              0,
              "#0d0887"
             ],
             [
              0.1111111111111111,
              "#46039f"
             ],
             [
              0.2222222222222222,
              "#7201a8"
             ],
             [
              0.3333333333333333,
              "#9c179e"
             ],
             [
              0.4444444444444444,
              "#bd3786"
             ],
             [
              0.5555555555555556,
              "#d8576b"
             ],
             [
              0.6666666666666666,
              "#ed7953"
             ],
             [
              0.7777777777777778,
              "#fb9f3a"
             ],
             [
              0.8888888888888888,
              "#fdca26"
             ],
             [
              1,
              "#f0f921"
             ]
            ],
            "type": "histogram2dcontour"
           }
          ],
          "mesh3d": [
           {
            "colorbar": {
             "outlinewidth": 0,
             "ticks": ""
            },
            "type": "mesh3d"
           }
          ],
          "parcoords": [
           {
            "line": {
             "colorbar": {
              "outlinewidth": 0,
              "ticks": ""
             }
            },
            "type": "parcoords"
           }
          ],
          "pie": [
           {
            "automargin": true,
            "type": "pie"
           }
          ],
          "scatter": [
           {
            "fillpattern": {
             "fillmode": "overlay",
             "size": 10,
             "solidity": 0.2
            },
            "type": "scatter"
           }
          ],
          "scatter3d": [
           {
            "line": {
             "colorbar": {
              "outlinewidth": 0,
              "ticks": ""
             }
            },
            "marker": {
             "colorbar": {
              "outlinewidth": 0,
              "ticks": ""
             }
            },
            "type": "scatter3d"
           }
          ],
          "scattercarpet": [
           {
            "marker": {
             "colorbar": {
              "outlinewidth": 0,
              "ticks": ""
             }
            },
            "type": "scattercarpet"
           }
          ],
          "scattergeo": [
           {
            "marker": {
             "colorbar": {
              "outlinewidth": 0,
              "ticks": ""
             }
            },
            "type": "scattergeo"
           }
          ],
          "scattergl": [
           {
            "marker": {
             "colorbar": {
              "outlinewidth": 0,
              "ticks": ""
             }
            },
            "type": "scattergl"
           }
          ],
          "scattermap": [
           {
            "marker": {
             "colorbar": {
              "outlinewidth": 0,
              "ticks": ""
             }
            },
            "type": "scattermap"
           }
          ],
          "scattermapbox": [
           {
            "marker": {
             "colorbar": {
              "outlinewidth": 0,
              "ticks": ""
             }
            },
            "type": "scattermapbox"
           }
          ],
          "scatterpolar": [
           {
            "marker": {
             "colorbar": {
              "outlinewidth": 0,
              "ticks": ""
             }
            },
            "type": "scatterpolar"
           }
          ],
          "scatterpolargl": [
           {
            "marker": {
             "colorbar": {
              "outlinewidth": 0,
              "ticks": ""
             }
            },
            "type": "scatterpolargl"
           }
          ],
          "scatterternary": [
           {
            "marker": {
             "colorbar": {
              "outlinewidth": 0,
              "ticks": ""
             }
            },
            "type": "scatterternary"
           }
          ],
          "surface": [
           {
            "colorbar": {
             "outlinewidth": 0,
             "ticks": ""
            },
            "colorscale": [
             [
              0,
              "#0d0887"
             ],
             [
              0.1111111111111111,
              "#46039f"
             ],
             [
              0.2222222222222222,
              "#7201a8"
             ],
             [
              0.3333333333333333,
              "#9c179e"
             ],
             [
              0.4444444444444444,
              "#bd3786"
             ],
             [
              0.5555555555555556,
              "#d8576b"
             ],
             [
              0.6666666666666666,
              "#ed7953"
             ],
             [
              0.7777777777777778,
              "#fb9f3a"
             ],
             [
              0.8888888888888888,
              "#fdca26"
             ],
             [
              1,
              "#f0f921"
             ]
            ],
            "type": "surface"
           }
          ],
          "table": [
           {
            "cells": {
             "fill": {
              "color": "#EBF0F8"
             },
             "line": {
              "color": "white"
             }
            },
            "header": {
             "fill": {
              "color": "#C8D4E3"
             },
             "line": {
              "color": "white"
             }
            },
            "type": "table"
           }
          ]
         },
         "layout": {
          "annotationdefaults": {
           "arrowcolor": "#2a3f5f",
           "arrowhead": 0,
           "arrowwidth": 1
          },
          "autotypenumbers": "strict",
          "coloraxis": {
           "colorbar": {
            "outlinewidth": 0,
            "ticks": ""
           }
          },
          "colorscale": {
           "diverging": [
            [
             0,
             "#8e0152"
            ],
            [
             0.1,
             "#c51b7d"
            ],
            [
             0.2,
             "#de77ae"
            ],
            [
             0.3,
             "#f1b6da"
            ],
            [
             0.4,
             "#fde0ef"
            ],
            [
             0.5,
             "#f7f7f7"
            ],
            [
             0.6,
             "#e6f5d0"
            ],
            [
             0.7,
             "#b8e186"
            ],
            [
             0.8,
             "#7fbc41"
            ],
            [
             0.9,
             "#4d9221"
            ],
            [
             1,
             "#276419"
            ]
           ],
           "sequential": [
            [
             0,
             "#0d0887"
            ],
            [
             0.1111111111111111,
             "#46039f"
            ],
            [
             0.2222222222222222,
             "#7201a8"
            ],
            [
             0.3333333333333333,
             "#9c179e"
            ],
            [
             0.4444444444444444,
             "#bd3786"
            ],
            [
             0.5555555555555556,
             "#d8576b"
            ],
            [
             0.6666666666666666,
             "#ed7953"
            ],
            [
             0.7777777777777778,
             "#fb9f3a"
            ],
            [
             0.8888888888888888,
             "#fdca26"
            ],
            [
             1,
             "#f0f921"
            ]
           ],
           "sequentialminus": [
            [
             0,
             "#0d0887"
            ],
            [
             0.1111111111111111,
             "#46039f"
            ],
            [
             0.2222222222222222,
             "#7201a8"
            ],
            [
             0.3333333333333333,
             "#9c179e"
            ],
            [
             0.4444444444444444,
             "#bd3786"
            ],
            [
             0.5555555555555556,
             "#d8576b"
            ],
            [
             0.6666666666666666,
             "#ed7953"
            ],
            [
             0.7777777777777778,
             "#fb9f3a"
            ],
            [
             0.8888888888888888,
             "#fdca26"
            ],
            [
             1,
             "#f0f921"
            ]
           ]
          },
          "colorway": [
           "#636efa",
           "#EF553B",
           "#00cc96",
           "#ab63fa",
           "#FFA15A",
           "#19d3f3",
           "#FF6692",
           "#B6E880",
           "#FF97FF",
           "#FECB52"
          ],
          "font": {
           "color": "#2a3f5f"
          },
          "geo": {
           "bgcolor": "white",
           "lakecolor": "white",
           "landcolor": "#E5ECF6",
           "showlakes": true,
           "showland": true,
           "subunitcolor": "white"
          },
          "hoverlabel": {
           "align": "left"
          },
          "hovermode": "closest",
          "mapbox": {
           "style": "light"
          },
          "paper_bgcolor": "white",
          "plot_bgcolor": "#E5ECF6",
          "polar": {
           "angularaxis": {
            "gridcolor": "white",
            "linecolor": "white",
            "ticks": ""
           },
           "bgcolor": "#E5ECF6",
           "radialaxis": {
            "gridcolor": "white",
            "linecolor": "white",
            "ticks": ""
           }
          },
          "scene": {
           "xaxis": {
            "backgroundcolor": "#E5ECF6",
            "gridcolor": "white",
            "gridwidth": 2,
            "linecolor": "white",
            "showbackground": true,
            "ticks": "",
            "zerolinecolor": "white"
           },
           "yaxis": {
            "backgroundcolor": "#E5ECF6",
            "gridcolor": "white",
            "gridwidth": 2,
            "linecolor": "white",
            "showbackground": true,
            "ticks": "",
            "zerolinecolor": "white"
           },
           "zaxis": {
            "backgroundcolor": "#E5ECF6",
            "gridcolor": "white",
            "gridwidth": 2,
            "linecolor": "white",
            "showbackground": true,
            "ticks": "",
            "zerolinecolor": "white"
           }
          },
          "shapedefaults": {
           "line": {
            "color": "#2a3f5f"
           }
          },
          "ternary": {
           "aaxis": {
            "gridcolor": "white",
            "linecolor": "white",
            "ticks": ""
           },
           "baxis": {
            "gridcolor": "white",
            "linecolor": "white",
            "ticks": ""
           },
           "bgcolor": "#E5ECF6",
           "caxis": {
            "gridcolor": "white",
            "linecolor": "white",
            "ticks": ""
           }
          },
          "title": {
           "x": 0.05
          },
          "xaxis": {
           "automargin": true,
           "gridcolor": "white",
           "linecolor": "white",
           "ticks": "",
           "title": {
            "standoff": 15
           },
           "zerolinecolor": "white",
           "zerolinewidth": 2
          },
          "yaxis": {
           "automargin": true,
           "gridcolor": "white",
           "linecolor": "white",
           "ticks": "",
           "title": {
            "standoff": 15
           },
           "zerolinecolor": "white",
           "zerolinewidth": 2
          }
         }
        },
        "title": {
         "text": "Non-rotating CL for 4 Blades"
        }
       }
      }
     },
     "metadata": {},
     "output_type": "display_data"
    },
    {
     "data": {
      "application/vnd.plotly.v1+json": {
       "config": {
        "plotlyServerURL": "https://plot.ly"
       },
       "data": [
        {
         "mode": "lines",
         "name": "Total",
         "type": "scatter",
         "x": {
          "bdata": "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",
          "dtype": "f8"
         },
         "y": {
          "bdata": "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",
          "dtype": "f8"
         }
        }
       ],
       "layout": {
        "template": {
         "data": {
          "bar": [
           {
            "error_x": {
             "color": "#2a3f5f"
            },
            "error_y": {
             "color": "#2a3f5f"
            },
            "marker": {
             "line": {
              "color": "#E5ECF6",
              "width": 0.5
             },
             "pattern": {
              "fillmode": "overlay",
              "size": 10,
              "solidity": 0.2
             }
            },
            "type": "bar"
           }
          ],
          "barpolar": [
           {
            "marker": {
             "line": {
              "color": "#E5ECF6",
              "width": 0.5
             },
             "pattern": {
              "fillmode": "overlay",
              "size": 10,
              "solidity": 0.2
             }
            },
            "type": "barpolar"
           }
          ],
          "carpet": [
           {
            "aaxis": {
             "endlinecolor": "#2a3f5f",
             "gridcolor": "white",
             "linecolor": "white",
             "minorgridcolor": "white",
             "startlinecolor": "#2a3f5f"
            },
            "baxis": {
             "endlinecolor": "#2a3f5f",
             "gridcolor": "white",
             "linecolor": "white",
             "minorgridcolor": "white",
             "startlinecolor": "#2a3f5f"
            },
            "type": "carpet"
           }
          ],
          "choropleth": [
           {
            "colorbar": {
             "outlinewidth": 0,
             "ticks": ""
            },
            "type": "choropleth"
           }
          ],
          "contour": [
           {
            "colorbar": {
             "outlinewidth": 0,
             "ticks": ""
            },
            "colorscale": [
             [
              0,
              "#0d0887"
             ],
             [
              0.1111111111111111,
              "#46039f"
             ],
             [
              0.2222222222222222,
              "#7201a8"
             ],
             [
              0.3333333333333333,
              "#9c179e"
             ],
             [
              0.4444444444444444,
              "#bd3786"
             ],
             [
              0.5555555555555556,
              "#d8576b"
             ],
             [
              0.6666666666666666,
              "#ed7953"
             ],
             [
              0.7777777777777778,
              "#fb9f3a"
             ],
             [
              0.8888888888888888,
              "#fdca26"
             ],
             [
              1,
              "#f0f921"
             ]
            ],
            "type": "contour"
           }
          ],
          "contourcarpet": [
           {
            "colorbar": {
             "outlinewidth": 0,
             "ticks": ""
            },
            "type": "contourcarpet"
           }
          ],
          "heatmap": [
           {
            "colorbar": {
             "outlinewidth": 0,
             "ticks": ""
            },
            "colorscale": [
             [
              0,
              "#0d0887"
             ],
             [
              0.1111111111111111,
              "#46039f"
             ],
             [
              0.2222222222222222,
              "#7201a8"
             ],
             [
              0.3333333333333333,
              "#9c179e"
             ],
             [
              0.4444444444444444,
              "#bd3786"
             ],
             [
              0.5555555555555556,
              "#d8576b"
             ],
             [
              0.6666666666666666,
              "#ed7953"
             ],
             [
              0.7777777777777778,
              "#fb9f3a"
             ],
             [
              0.8888888888888888,
              "#fdca26"
             ],
             [
              1,
              "#f0f921"
             ]
            ],
            "type": "heatmap"
           }
          ],
          "histogram": [
           {
            "marker": {
             "pattern": {
              "fillmode": "overlay",
              "size": 10,
              "solidity": 0.2
             }
            },
            "type": "histogram"
           }
          ],
          "histogram2d": [
           {
            "colorbar": {
             "outlinewidth": 0,
             "ticks": ""
            },
            "colorscale": [
             [
              0,
              "#0d0887"
             ],
             [
              0.1111111111111111,
              "#46039f"
             ],
             [
              0.2222222222222222,
              "#7201a8"
             ],
             [
              0.3333333333333333,
              "#9c179e"
             ],
             [
              0.4444444444444444,
              "#bd3786"
             ],
             [
              0.5555555555555556,
              "#d8576b"
             ],
             [
              0.6666666666666666,
              "#ed7953"
             ],
             [
              0.7777777777777778,
              "#fb9f3a"
             ],
             [
              0.8888888888888888,
              "#fdca26"
             ],
             [
              1,
              "#f0f921"
             ]
            ],
            "type": "histogram2d"
           }
          ],
          "histogram2dcontour": [
           {
            "colorbar": {
             "outlinewidth": 0,
             "ticks": ""
            },
            "colorscale": [
             [
              0,
              "#0d0887"
             ],
             [
              0.1111111111111111,
              "#46039f"
             ],
             [
              0.2222222222222222,
              "#7201a8"
             ],
             [
              0.3333333333333333,
              "#9c179e"
             ],
             [
              0.4444444444444444,
              "#bd3786"
             ],
             [
              0.5555555555555556,
              "#d8576b"
             ],
             [
              0.6666666666666666,
              "#ed7953"
             ],
             [
              0.7777777777777778,
              "#fb9f3a"
             ],
             [
              0.8888888888888888,
              "#fdca26"
             ],
             [
              1,
              "#f0f921"
             ]
            ],
            "type": "histogram2dcontour"
           }
          ],
          "mesh3d": [
           {
            "colorbar": {
             "outlinewidth": 0,
             "ticks": ""
            },
            "type": "mesh3d"
           }
          ],
          "parcoords": [
           {
            "line": {
             "colorbar": {
              "outlinewidth": 0,
              "ticks": ""
             }
            },
            "type": "parcoords"
           }
          ],
          "pie": [
           {
            "automargin": true,
            "type": "pie"
           }
          ],
          "scatter": [
           {
            "fillpattern": {
             "fillmode": "overlay",
             "size": 10,
             "solidity": 0.2
            },
            "type": "scatter"
           }
          ],
          "scatter3d": [
           {
            "line": {
             "colorbar": {
              "outlinewidth": 0,
              "ticks": ""
             }
            },
            "marker": {
             "colorbar": {
              "outlinewidth": 0,
              "ticks": ""
             }
            },
            "type": "scatter3d"
           }
          ],
          "scattercarpet": [
           {
            "marker": {
             "colorbar": {
              "outlinewidth": 0,
              "ticks": ""
             }
            },
            "type": "scattercarpet"
           }
          ],
          "scattergeo": [
           {
            "marker": {
             "colorbar": {
              "outlinewidth": 0,
              "ticks": ""
             }
            },
            "type": "scattergeo"
           }
          ],
          "scattergl": [
           {
            "marker": {
             "colorbar": {
              "outlinewidth": 0,
              "ticks": ""
             }
            },
            "type": "scattergl"
           }
          ],
          "scattermap": [
           {
            "marker": {
             "colorbar": {
              "outlinewidth": 0,
              "ticks": ""
             }
            },
            "type": "scattermap"
           }
          ],
          "scattermapbox": [
           {
            "marker": {
             "colorbar": {
              "outlinewidth": 0,
              "ticks": ""
             }
            },
            "type": "scattermapbox"
           }
          ],
          "scatterpolar": [
           {
            "marker": {
             "colorbar": {
              "outlinewidth": 0,
              "ticks": ""
             }
            },
            "type": "scatterpolar"
           }
          ],
          "scatterpolargl": [
           {
            "marker": {
             "colorbar": {
              "outlinewidth": 0,
              "ticks": ""
             }
            },
            "type": "scatterpolargl"
           }
          ],
          "scatterternary": [
           {
            "marker": {
             "colorbar": {
              "outlinewidth": 0,
              "ticks": ""
             }
            },
            "type": "scatterternary"
           }
          ],
          "surface": [
           {
            "colorbar": {
             "outlinewidth": 0,
             "ticks": ""
            },
            "colorscale": [
             [
              0,
              "#0d0887"
             ],
             [
              0.1111111111111111,
              "#46039f"
             ],
             [
              0.2222222222222222,
              "#7201a8"
             ],
             [
              0.3333333333333333,
              "#9c179e"
             ],
             [
              0.4444444444444444,
              "#bd3786"
             ],
             [
              0.5555555555555556,
              "#d8576b"
             ],
             [
              0.6666666666666666,
              "#ed7953"
             ],
             [
              0.7777777777777778,
              "#fb9f3a"
             ],
             [
              0.8888888888888888,
              "#fdca26"
             ],
             [
              1,
              "#f0f921"
             ]
            ],
            "type": "surface"
           }
          ],
          "table": [
           {
            "cells": {
             "fill": {
              "color": "#EBF0F8"
             },
             "line": {
              "color": "white"
             }
            },
            "header": {
             "fill": {
              "color": "#C8D4E3"
             },
             "line": {
              "color": "white"
             }
            },
            "type": "table"
           }
          ]
         },
         "layout": {
          "annotationdefaults": {
           "arrowcolor": "#2a3f5f",
           "arrowhead": 0,
           "arrowwidth": 1
          },
          "autotypenumbers": "strict",
          "coloraxis": {
           "colorbar": {
            "outlinewidth": 0,
            "ticks": ""
           }
          },
          "colorscale": {
           "diverging": [
            [
             0,
             "#8e0152"
            ],
            [
             0.1,
             "#c51b7d"
            ],
            [
             0.2,
             "#de77ae"
            ],
            [
             0.3,
             "#f1b6da"
            ],
            [
             0.4,
             "#fde0ef"
            ],
            [
             0.5,
             "#f7f7f7"
            ],
            [
             0.6,
             "#e6f5d0"
            ],
            [
             0.7,
             "#b8e186"
            ],
            [
             0.8,
             "#7fbc41"
            ],
            [
             0.9,
             "#4d9221"
            ],
            [
             1,
             "#276419"
            ]
           ],
           "sequential": [
            [
             0,
             "#0d0887"
            ],
            [
             0.1111111111111111,
             "#46039f"
            ],
            [
             0.2222222222222222,
             "#7201a8"
            ],
            [
             0.3333333333333333,
             "#9c179e"
            ],
            [
             0.4444444444444444,
             "#bd3786"
            ],
            [
             0.5555555555555556,
             "#d8576b"
            ],
            [
             0.6666666666666666,
             "#ed7953"
            ],
            [
             0.7777777777777778,
             "#fb9f3a"
            ],
            [
             0.8888888888888888,
             "#fdca26"
            ],
            [
             1,
             "#f0f921"
            ]
           ],
           "sequentialminus": [
            [
             0,
             "#0d0887"
            ],
            [
             0.1111111111111111,
             "#46039f"
            ],
            [
             0.2222222222222222,
             "#7201a8"
            ],
            [
             0.3333333333333333,
             "#9c179e"
            ],
            [
             0.4444444444444444,
             "#bd3786"
            ],
            [
             0.5555555555555556,
             "#d8576b"
            ],
            [
             0.6666666666666666,
             "#ed7953"
            ],
            [
             0.7777777777777778,
             "#fb9f3a"
            ],
            [
             0.8888888888888888,
             "#fdca26"
            ],
            [
             1,
             "#f0f921"
            ]
           ]
          },
          "colorway": [
           "#636efa",
           "#EF553B",
           "#00cc96",
           "#ab63fa",
           "#FFA15A",
           "#19d3f3",
           "#FF6692",
           "#B6E880",
           "#FF97FF",
           "#FECB52"
          ],
          "font": {
           "color": "#2a3f5f"
          },
          "geo": {
           "bgcolor": "white",
           "lakecolor": "white",
           "landcolor": "#E5ECF6",
           "showlakes": true,
           "showland": true,
           "subunitcolor": "white"
          },
          "hoverlabel": {
           "align": "left"
          },
          "hovermode": "closest",
          "mapbox": {
           "style": "light"
          },
          "paper_bgcolor": "white",
          "plot_bgcolor": "#E5ECF6",
          "polar": {
           "angularaxis": {
            "gridcolor": "white",
            "linecolor": "white",
            "ticks": ""
           },
           "bgcolor": "#E5ECF6",
           "radialaxis": {
            "gridcolor": "white",
            "linecolor": "white",
            "ticks": ""
           }
          },
          "scene": {
           "xaxis": {
            "backgroundcolor": "#E5ECF6",
            "gridcolor": "white",
            "gridwidth": 2,
            "linecolor": "white",
            "showbackground": true,
            "ticks": "",
            "zerolinecolor": "white"
           },
           "yaxis": {
            "backgroundcolor": "#E5ECF6",
            "gridcolor": "white",
            "gridwidth": 2,
            "linecolor": "white",
            "showbackground": true,
            "ticks": "",
            "zerolinecolor": "white"
           },
           "zaxis": {
            "backgroundcolor": "#E5ECF6",
            "gridcolor": "white",
            "gridwidth": 2,
            "linecolor": "white",
            "showbackground": true,
            "ticks": "",
            "zerolinecolor": "white"
           }
          },
          "shapedefaults": {
           "line": {
            "color": "#2a3f5f"
           }
          },
          "ternary": {
           "aaxis": {
            "gridcolor": "white",
            "linecolor": "white",
            "ticks": ""
           },
           "baxis": {
            "gridcolor": "white",
            "linecolor": "white",
            "ticks": ""
           },
           "bgcolor": "#E5ECF6",
           "caxis": {
            "gridcolor": "white",
            "linecolor": "white",
            "ticks": ""
           }
          },
          "title": {
           "x": 0.05
          },
          "xaxis": {
           "automargin": true,
           "gridcolor": "white",
           "linecolor": "white",
           "ticks": "",
           "title": {
            "standoff": 15
           },
           "zerolinecolor": "white",
           "zerolinewidth": 2
          },
          "yaxis": {
           "automargin": true,
           "gridcolor": "white",
           "linecolor": "white",
           "ticks": "",
           "title": {
            "standoff": 15
           },
           "zerolinecolor": "white",
           "zerolinewidth": 2
          }
         }
        },
        "title": {
         "text": "Non-rotating CM for 4 Blades"
        }
       }
      }
     },
     "metadata": {},
     "output_type": "display_data"
    }
   ],
   "source": [
    "psi = np.linspace(0, 2*np.pi, 360)\n",
    "dpsi = 0.36161\n",
    "r = 1\n",
    "\n",
    "# Define the number of Blades\n",
    "for B in range(1, 5):\n",
    "\n",
    "    CLtot = 0\n",
    "    CMtot = 0\n",
    "\n",
    "    fig = go.Figure()\n",
    "    fig2 = go.Figure()\n",
    "\n",
    "    for b in range(B):\n",
    "        CL = 1000 + np.sin(psi + dpsi + (2*np.pi*b)/B)\n",
    "\n",
    "        CLtot += CL\n",
    "        CM = CL * r * np.cos(psi + (2*np.pi*b)/B)\n",
    "        CMtot += CM\n",
    "\n",
    "        fig.add_trace(go.Scatter(x=psi, y=CL, mode='lines', name=f'Blade {b+1}'))\n",
    "        # fig2.add_trace(go.Scatter(x=psi, y=CM, mode='lines', name=f'Blade {b+1}'))\n",
    "\n",
    "    fig.add_trace(go.Scatter(x=psi, y=CLtot, mode='lines', name='Total'))\n",
    "    fig.update_layout(title=f'Non-rotating CL for {B} Blades')\n",
    "    fig2.add_trace(go.Scatter(x=psi, y=CMtot, mode='lines', name='Total'))\n",
    "    fig2.update_layout(title=f'Non-rotating CM for {B} Blades')\n",
    "    \n",
    "    fig.show()\n",
    "    fig2.show()\n"
   ]
  },
  {
   "cell_type": "code",
   "execution_count": null,
   "id": "50212c81",
   "metadata": {},
   "outputs": [],
   "source": []
  }
 ],
 "metadata": {
  "kernelspec": {
   "display_name": ".venv",
   "language": "python",
   "name": "python3"
  },
  "language_info": {
   "codemirror_mode": {
    "name": "ipython",
    "version": 3
   },
   "file_extension": ".py",
   "mimetype": "text/x-python",
   "name": "python",
   "nbconvert_exporter": "python",
   "pygments_lexer": "ipython3",
   "version": "3.11.9"
  }
 },
 "nbformat": 4,
 "nbformat_minor": 5
}
