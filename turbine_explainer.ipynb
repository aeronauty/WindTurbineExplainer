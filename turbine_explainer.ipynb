{
 "cells": [
  {
   "cell_type": "code",
   "execution_count": 1,
   "id": "43c9673e",
   "metadata": {},
   "outputs": [],
   "source": [
    "import sympy as sp"
   ]
  },
  {
   "cell_type": "code",
   "execution_count": 23,
   "id": "c77e2d9c",
   "metadata": {},
   "outputs": [
    {
     "data": {
      "text/latex": [
       "$\\displaystyle - \\frac{V_{inf} \\sin{\\left(\\alpha \\right)}}{V_{inf} \\sin{\\left(\\alpha \\right)} \\sin{\\left(\\psi \\right)} + \\omega r}$"
      ],
      "text/plain": [
       "-V_inf*sin(alpha)/(V_inf*sin(alpha)*sin(psi) + omega*r)"
      ]
     },
     "metadata": {},
     "output_type": "display_data"
    }
   ],
   "source": [
    "psi, alpha, beta, = sp.symbols(['psi', 'alpha', 'beta'])\n",
    "\n",
    "# Set up the velocity components \n",
    "V_inf = sp.symbols('V_inf')\n",
    "u = V_inf * sp.cos(alpha) * sp.cos(beta)\n",
    "w = V_inf * sp.sin(alpha) * sp.cos(beta)\n",
    "v = V_inf * sp.sin(beta)\n",
    "\n",
    "# Determine the rotational speed\n",
    "omega = sp.symbols('omega')\n",
    "\n",
    "# Define the blade element geometry\n",
    "r = sp.symbols('r')\n",
    "\n",
    "n_b = w\n",
    "p_b = omega * r + w * sp.sin(psi) + v * sp.cos(psi)\n",
    "\n",
    "v_b = sp.sqrt(n_b**2 + p_b**2)\n",
    "\n",
    "\n",
    "phi = sp.atan(n_b / p_b)\n",
    "\n",
    "alpha = -phi\n",
    "\n",
    "sm_alpha = -(n_b/p_b)\n",
    "display(sp.simplify(sm_alpha.subs(beta, 0)))\n"
   ]
  },
  {
   "cell_type": "code",
   "execution_count": null,
   "id": "50212c81",
   "metadata": {},
   "outputs": [],
   "source": []
  }
 ],
 "metadata": {
  "kernelspec": {
   "display_name": ".venv",
   "language": "python",
   "name": "python3"
  },
  "language_info": {
   "codemirror_mode": {
    "name": "ipython",
    "version": 3
   },
   "file_extension": ".py",
   "mimetype": "text/x-python",
   "name": "python",
   "nbconvert_exporter": "python",
   "pygments_lexer": "ipython3",
   "version": "3.11.9"
  }
 },
 "nbformat": 4,
 "nbformat_minor": 5
}
